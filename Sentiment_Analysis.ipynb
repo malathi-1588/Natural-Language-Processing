{
 "cells": [
  {
   "cell_type": "markdown",
   "id": "3dd25fbf",
   "metadata": {},
   "source": [
    "## Building an NLP Sentiment Analysis Pipeline In Python\n",
    "Reference:https://www.linkedin.com/advice/0/how-do-you-design-implement-nlp-pipelines#:~:text=An%20NLP%20pipeline%20is%20a,entity%20recognition%2C%20or%20sentiment%20analysis.\n",
    "\n",
    "2.https://www.geeksforgeeks.org/natural-language-processing-nlp-pipeline/\n",
    "####  1.Data Acquisition\n",
    "####   2.Text Cleaning\n",
    "Unicode normalisation:Symbols,Emojis,Special Characters\n",
    "Regex:String pattern based removal of email,Phine number,URL\n",
    "Spellingm Correction:Web scraped data - Create a corpus or dictionary of misspelled word\n",
    "####   3.Text Preprocessing\n",
    "Words to be separated at the minimum level\n",
    "Tokenization\n",
    "Lowercasing\n",
    "Stop words removal\n",
    "Stemming/Lemmatization\n",
    "POS tagging - Assign Parts of speech to each word in the text(NER,Sentimental Analysis& Machine translation)\n",
    "####   4.Feature Engineering\n",
    "Text vectorization/Representation\n",
    "Classical approach:\n",
    "    One hot encoding\n",
    "    Bag of words\n",
    "    Bag of n-grams\n",
    "    TF-TDF\n",
    "Neural approach or Word Embedding:\n",
    "    To understand the contextual meaning\n",
    "        Continous Bag of word\n",
    "        Skip gram \n",
    "    Pre trained word embedding - Use large corpus --Import Gensim or hugging face Word2Vec by Google,GloVe by stanford    \n",
    "####   5.Building Model\n",
    "\n",
    "####   6.Evaluation"
   ]
  },
  {
   "cell_type": "markdown",
   "id": "42ae78bc",
   "metadata": {},
   "source": [
    "### Data Acquisition - https://www.kaggle.com/datasets/abhi8923shriv/sentiment-analysis-dataset"
   ]
  },
  {
   "cell_type": "markdown",
   "id": "d85a9363",
   "metadata": {},
   "source": [
    "### Import necessary Libraries"
   ]
  },
  {
   "cell_type": "code",
   "execution_count": 1,
   "id": "f9f4131a",
   "metadata": {},
   "outputs": [],
   "source": [
    "import pandas as pd\n",
    "import re\n",
    "import nltk\n",
    "import numpy as np"
   ]
  },
  {
   "cell_type": "markdown",
   "id": "be2ad1a1",
   "metadata": {},
   "source": [
    "#### Load dataset"
   ]
  },
  {
   "cell_type": "raw",
   "id": "cf2c83a8",
   "metadata": {},
   "source": [
    "https://www.geeksforgeeks.org/python-pandas-dataframe-drop_duplicates/"
   ]
  },
  {
   "cell_type": "code",
   "execution_count": 2,
   "id": "860740c6",
   "metadata": {},
   "outputs": [],
   "source": [
    "data_reference  = pd.read_csv(r\"D:\\Malathi\\SEM_6\\NLP\\archive\\train.csv\",encoding='latin1')"
   ]
  },
  {
   "cell_type": "code",
   "execution_count": 3,
   "id": "c751d023",
   "metadata": {},
   "outputs": [
    {
     "data": {
      "text/html": [
       "<div>\n",
       "<style scoped>\n",
       "    .dataframe tbody tr th:only-of-type {\n",
       "        vertical-align: middle;\n",
       "    }\n",
       "\n",
       "    .dataframe tbody tr th {\n",
       "        vertical-align: top;\n",
       "    }\n",
       "\n",
       "    .dataframe thead th {\n",
       "        text-align: right;\n",
       "    }\n",
       "</style>\n",
       "<table border=\"1\" class=\"dataframe\">\n",
       "  <thead>\n",
       "    <tr style=\"text-align: right;\">\n",
       "      <th></th>\n",
       "      <th>textID</th>\n",
       "      <th>text</th>\n",
       "      <th>selected_text</th>\n",
       "      <th>sentiment</th>\n",
       "      <th>Time of Tweet</th>\n",
       "      <th>Age of User</th>\n",
       "      <th>Country</th>\n",
       "      <th>Population -2020</th>\n",
       "      <th>Land Area (Km²)</th>\n",
       "      <th>Density (P/Km²)</th>\n",
       "    </tr>\n",
       "  </thead>\n",
       "  <tbody>\n",
       "    <tr>\n",
       "      <th>0</th>\n",
       "      <td>cb774db0d1</td>\n",
       "      <td>I`d have responded, if I were going</td>\n",
       "      <td>I`d have responded, if I were going</td>\n",
       "      <td>neutral</td>\n",
       "      <td>morning</td>\n",
       "      <td>0-20</td>\n",
       "      <td>Afghanistan</td>\n",
       "      <td>38928346</td>\n",
       "      <td>652860.0</td>\n",
       "      <td>60</td>\n",
       "    </tr>\n",
       "    <tr>\n",
       "      <th>1</th>\n",
       "      <td>549e992a42</td>\n",
       "      <td>Sooo SAD I will miss you here in San Diego!!!</td>\n",
       "      <td>Sooo SAD</td>\n",
       "      <td>negative</td>\n",
       "      <td>noon</td>\n",
       "      <td>21-30</td>\n",
       "      <td>Albania</td>\n",
       "      <td>2877797</td>\n",
       "      <td>27400.0</td>\n",
       "      <td>105</td>\n",
       "    </tr>\n",
       "    <tr>\n",
       "      <th>2</th>\n",
       "      <td>088c60f138</td>\n",
       "      <td>my boss is bullying me...</td>\n",
       "      <td>bullying me</td>\n",
       "      <td>negative</td>\n",
       "      <td>night</td>\n",
       "      <td>31-45</td>\n",
       "      <td>Algeria</td>\n",
       "      <td>43851044</td>\n",
       "      <td>2381740.0</td>\n",
       "      <td>18</td>\n",
       "    </tr>\n",
       "    <tr>\n",
       "      <th>3</th>\n",
       "      <td>9642c003ef</td>\n",
       "      <td>what interview! leave me alone</td>\n",
       "      <td>leave me alone</td>\n",
       "      <td>negative</td>\n",
       "      <td>morning</td>\n",
       "      <td>46-60</td>\n",
       "      <td>Andorra</td>\n",
       "      <td>77265</td>\n",
       "      <td>470.0</td>\n",
       "      <td>164</td>\n",
       "    </tr>\n",
       "    <tr>\n",
       "      <th>4</th>\n",
       "      <td>358bd9e861</td>\n",
       "      <td>Sons of ****, why couldn`t they put them on t...</td>\n",
       "      <td>Sons of ****,</td>\n",
       "      <td>negative</td>\n",
       "      <td>noon</td>\n",
       "      <td>60-70</td>\n",
       "      <td>Angola</td>\n",
       "      <td>32866272</td>\n",
       "      <td>1246700.0</td>\n",
       "      <td>26</td>\n",
       "    </tr>\n",
       "  </tbody>\n",
       "</table>\n",
       "</div>"
      ],
      "text/plain": [
       "       textID                                               text  \\\n",
       "0  cb774db0d1                I`d have responded, if I were going   \n",
       "1  549e992a42      Sooo SAD I will miss you here in San Diego!!!   \n",
       "2  088c60f138                          my boss is bullying me...   \n",
       "3  9642c003ef                     what interview! leave me alone   \n",
       "4  358bd9e861   Sons of ****, why couldn`t they put them on t...   \n",
       "\n",
       "                         selected_text sentiment Time of Tweet Age of User  \\\n",
       "0  I`d have responded, if I were going   neutral       morning        0-20   \n",
       "1                             Sooo SAD  negative          noon       21-30   \n",
       "2                          bullying me  negative         night       31-45   \n",
       "3                       leave me alone  negative       morning       46-60   \n",
       "4                        Sons of ****,  negative          noon       60-70   \n",
       "\n",
       "       Country  Population -2020  Land Area (Km²)  Density (P/Km²)  \n",
       "0  Afghanistan          38928346         652860.0               60  \n",
       "1      Albania           2877797          27400.0              105  \n",
       "2      Algeria          43851044        2381740.0               18  \n",
       "3      Andorra             77265            470.0              164  \n",
       "4       Angola          32866272        1246700.0               26  "
      ]
     },
     "execution_count": 3,
     "metadata": {},
     "output_type": "execute_result"
    }
   ],
   "source": [
    "data_reference.head(5)"
   ]
  },
  {
   "cell_type": "code",
   "execution_count": 4,
   "id": "5deb3370",
   "metadata": {},
   "outputs": [],
   "source": [
    "def load_dataset(file):\n",
    "        data = pd.read_csv(file,encoding='latin1')\n",
    "        data.drop_duplicates(inplace=True)\n",
    "        data.dropna(inplace=True)\n",
    "        selected_colums=['text','sentiment']\n",
    "        data=data[selected_colums]\n",
    "        data=pd.DataFrame(data)\n",
    "        return data\n",
    "    \n",
    "train_data = load_dataset(r\"D:\\Malathi\\SEM_6\\NLP\\archive\\train.csv\")\n",
    "test_data =load_dataset(r\"D:\\Malathi\\SEM_6\\NLP\\archive\\test.csv\")"
   ]
  },
  {
   "cell_type": "code",
   "execution_count": 5,
   "id": "400feea2",
   "metadata": {},
   "outputs": [
    {
     "name": "stdout",
     "output_type": "stream",
     "text": [
      "<class 'pandas.core.frame.DataFrame'>\n",
      "Index: 27480 entries, 0 to 27480\n",
      "Data columns (total 2 columns):\n",
      " #   Column     Non-Null Count  Dtype \n",
      "---  ------     --------------  ----- \n",
      " 0   text       27480 non-null  object\n",
      " 1   sentiment  27480 non-null  object\n",
      "dtypes: object(2)\n",
      "memory usage: 644.1+ KB\n"
     ]
    }
   ],
   "source": [
    "train_data.info()"
   ]
  },
  {
   "cell_type": "code",
   "execution_count": 6,
   "id": "787d9ca0",
   "metadata": {},
   "outputs": [
    {
     "data": {
      "text/plain": [
       "pandas.core.frame.DataFrame"
      ]
     },
     "execution_count": 6,
     "metadata": {},
     "output_type": "execute_result"
    }
   ],
   "source": [
    "type(train_data)"
   ]
  },
  {
   "cell_type": "code",
   "execution_count": 7,
   "id": "24d91d07",
   "metadata": {},
   "outputs": [
    {
     "data": {
      "text/html": [
       "<div>\n",
       "<style scoped>\n",
       "    .dataframe tbody tr th:only-of-type {\n",
       "        vertical-align: middle;\n",
       "    }\n",
       "\n",
       "    .dataframe tbody tr th {\n",
       "        vertical-align: top;\n",
       "    }\n",
       "\n",
       "    .dataframe thead th {\n",
       "        text-align: right;\n",
       "    }\n",
       "</style>\n",
       "<table border=\"1\" class=\"dataframe\">\n",
       "  <thead>\n",
       "    <tr style=\"text-align: right;\">\n",
       "      <th></th>\n",
       "      <th>text</th>\n",
       "      <th>sentiment</th>\n",
       "    </tr>\n",
       "  </thead>\n",
       "  <tbody>\n",
       "    <tr>\n",
       "      <th>0</th>\n",
       "      <td>I`d have responded, if I were going</td>\n",
       "      <td>neutral</td>\n",
       "    </tr>\n",
       "    <tr>\n",
       "      <th>1</th>\n",
       "      <td>Sooo SAD I will miss you here in San Diego!!!</td>\n",
       "      <td>negative</td>\n",
       "    </tr>\n",
       "    <tr>\n",
       "      <th>2</th>\n",
       "      <td>my boss is bullying me...</td>\n",
       "      <td>negative</td>\n",
       "    </tr>\n",
       "    <tr>\n",
       "      <th>3</th>\n",
       "      <td>what interview! leave me alone</td>\n",
       "      <td>negative</td>\n",
       "    </tr>\n",
       "    <tr>\n",
       "      <th>4</th>\n",
       "      <td>Sons of ****, why couldn`t they put them on t...</td>\n",
       "      <td>negative</td>\n",
       "    </tr>\n",
       "    <tr>\n",
       "      <th>...</th>\n",
       "      <td>...</td>\n",
       "      <td>...</td>\n",
       "    </tr>\n",
       "    <tr>\n",
       "      <th>27476</th>\n",
       "      <td>wish we could come see u on Denver  husband l...</td>\n",
       "      <td>negative</td>\n",
       "    </tr>\n",
       "    <tr>\n",
       "      <th>27477</th>\n",
       "      <td>I`ve wondered about rake to.  The client has ...</td>\n",
       "      <td>negative</td>\n",
       "    </tr>\n",
       "    <tr>\n",
       "      <th>27478</th>\n",
       "      <td>Yay good for both of you. Enjoy the break - y...</td>\n",
       "      <td>positive</td>\n",
       "    </tr>\n",
       "    <tr>\n",
       "      <th>27479</th>\n",
       "      <td>But it was worth it  ****.</td>\n",
       "      <td>positive</td>\n",
       "    </tr>\n",
       "    <tr>\n",
       "      <th>27480</th>\n",
       "      <td>All this flirting going on - The ATG smiles...</td>\n",
       "      <td>neutral</td>\n",
       "    </tr>\n",
       "  </tbody>\n",
       "</table>\n",
       "<p>27480 rows × 2 columns</p>\n",
       "</div>"
      ],
      "text/plain": [
       "                                                    text sentiment\n",
       "0                    I`d have responded, if I were going   neutral\n",
       "1          Sooo SAD I will miss you here in San Diego!!!  negative\n",
       "2                              my boss is bullying me...  negative\n",
       "3                         what interview! leave me alone  negative\n",
       "4       Sons of ****, why couldn`t they put them on t...  negative\n",
       "...                                                  ...       ...\n",
       "27476   wish we could come see u on Denver  husband l...  negative\n",
       "27477   I`ve wondered about rake to.  The client has ...  negative\n",
       "27478   Yay good for both of you. Enjoy the break - y...  positive\n",
       "27479                         But it was worth it  ****.  positive\n",
       "27480     All this flirting going on - The ATG smiles...   neutral\n",
       "\n",
       "[27480 rows x 2 columns]"
      ]
     },
     "execution_count": 7,
     "metadata": {},
     "output_type": "execute_result"
    }
   ],
   "source": [
    "train_data"
   ]
  },
  {
   "cell_type": "code",
   "execution_count": 8,
   "id": "494f4281",
   "metadata": {},
   "outputs": [
    {
     "name": "stdout",
     "output_type": "stream",
     "text": [
      "<class 'pandas.core.frame.DataFrame'>\n",
      "Index: 3534 entries, 0 to 3533\n",
      "Data columns (total 2 columns):\n",
      " #   Column     Non-Null Count  Dtype \n",
      "---  ------     --------------  ----- \n",
      " 0   text       3534 non-null   object\n",
      " 1   sentiment  3534 non-null   object\n",
      "dtypes: object(2)\n",
      "memory usage: 82.8+ KB\n"
     ]
    }
   ],
   "source": [
    "test_data.info()"
   ]
  },
  {
   "cell_type": "code",
   "execution_count": 9,
   "id": "254eff38",
   "metadata": {},
   "outputs": [],
   "source": [
    "data_reference = data_reference.iloc[:,:4]"
   ]
  },
  {
   "cell_type": "code",
   "execution_count": 10,
   "id": "6280de9d",
   "metadata": {},
   "outputs": [
    {
     "data": {
      "text/html": [
       "<div>\n",
       "<style scoped>\n",
       "    .dataframe tbody tr th:only-of-type {\n",
       "        vertical-align: middle;\n",
       "    }\n",
       "\n",
       "    .dataframe tbody tr th {\n",
       "        vertical-align: top;\n",
       "    }\n",
       "\n",
       "    .dataframe thead th {\n",
       "        text-align: right;\n",
       "    }\n",
       "</style>\n",
       "<table border=\"1\" class=\"dataframe\">\n",
       "  <thead>\n",
       "    <tr style=\"text-align: right;\">\n",
       "      <th></th>\n",
       "      <th>textID</th>\n",
       "      <th>text</th>\n",
       "      <th>selected_text</th>\n",
       "      <th>sentiment</th>\n",
       "    </tr>\n",
       "  </thead>\n",
       "  <tbody>\n",
       "    <tr>\n",
       "      <th>0</th>\n",
       "      <td>cb774db0d1</td>\n",
       "      <td>I`d have responded, if I were going</td>\n",
       "      <td>I`d have responded, if I were going</td>\n",
       "      <td>neutral</td>\n",
       "    </tr>\n",
       "    <tr>\n",
       "      <th>1</th>\n",
       "      <td>549e992a42</td>\n",
       "      <td>Sooo SAD I will miss you here in San Diego!!!</td>\n",
       "      <td>Sooo SAD</td>\n",
       "      <td>negative</td>\n",
       "    </tr>\n",
       "    <tr>\n",
       "      <th>2</th>\n",
       "      <td>088c60f138</td>\n",
       "      <td>my boss is bullying me...</td>\n",
       "      <td>bullying me</td>\n",
       "      <td>negative</td>\n",
       "    </tr>\n",
       "    <tr>\n",
       "      <th>3</th>\n",
       "      <td>9642c003ef</td>\n",
       "      <td>what interview! leave me alone</td>\n",
       "      <td>leave me alone</td>\n",
       "      <td>negative</td>\n",
       "    </tr>\n",
       "    <tr>\n",
       "      <th>4</th>\n",
       "      <td>358bd9e861</td>\n",
       "      <td>Sons of ****, why couldn`t they put them on t...</td>\n",
       "      <td>Sons of ****,</td>\n",
       "      <td>negative</td>\n",
       "    </tr>\n",
       "    <tr>\n",
       "      <th>...</th>\n",
       "      <td>...</td>\n",
       "      <td>...</td>\n",
       "      <td>...</td>\n",
       "      <td>...</td>\n",
       "    </tr>\n",
       "    <tr>\n",
       "      <th>27476</th>\n",
       "      <td>4eac33d1c0</td>\n",
       "      <td>wish we could come see u on Denver  husband l...</td>\n",
       "      <td>d lost</td>\n",
       "      <td>negative</td>\n",
       "    </tr>\n",
       "    <tr>\n",
       "      <th>27477</th>\n",
       "      <td>4f4c4fc327</td>\n",
       "      <td>I`ve wondered about rake to.  The client has ...</td>\n",
       "      <td>, don`t force</td>\n",
       "      <td>negative</td>\n",
       "    </tr>\n",
       "    <tr>\n",
       "      <th>27478</th>\n",
       "      <td>f67aae2310</td>\n",
       "      <td>Yay good for both of you. Enjoy the break - y...</td>\n",
       "      <td>Yay good for both of you.</td>\n",
       "      <td>positive</td>\n",
       "    </tr>\n",
       "    <tr>\n",
       "      <th>27479</th>\n",
       "      <td>ed167662a5</td>\n",
       "      <td>But it was worth it  ****.</td>\n",
       "      <td>But it was worth it  ****.</td>\n",
       "      <td>positive</td>\n",
       "    </tr>\n",
       "    <tr>\n",
       "      <th>27480</th>\n",
       "      <td>6f7127d9d7</td>\n",
       "      <td>All this flirting going on - The ATG smiles...</td>\n",
       "      <td>All this flirting going on - The ATG smiles. Y...</td>\n",
       "      <td>neutral</td>\n",
       "    </tr>\n",
       "  </tbody>\n",
       "</table>\n",
       "<p>27481 rows × 4 columns</p>\n",
       "</div>"
      ],
      "text/plain": [
       "           textID                                               text  \\\n",
       "0      cb774db0d1                I`d have responded, if I were going   \n",
       "1      549e992a42      Sooo SAD I will miss you here in San Diego!!!   \n",
       "2      088c60f138                          my boss is bullying me...   \n",
       "3      9642c003ef                     what interview! leave me alone   \n",
       "4      358bd9e861   Sons of ****, why couldn`t they put them on t...   \n",
       "...           ...                                                ...   \n",
       "27476  4eac33d1c0   wish we could come see u on Denver  husband l...   \n",
       "27477  4f4c4fc327   I`ve wondered about rake to.  The client has ...   \n",
       "27478  f67aae2310   Yay good for both of you. Enjoy the break - y...   \n",
       "27479  ed167662a5                         But it was worth it  ****.   \n",
       "27480  6f7127d9d7     All this flirting going on - The ATG smiles...   \n",
       "\n",
       "                                           selected_text sentiment  \n",
       "0                    I`d have responded, if I were going   neutral  \n",
       "1                                               Sooo SAD  negative  \n",
       "2                                            bullying me  negative  \n",
       "3                                         leave me alone  negative  \n",
       "4                                          Sons of ****,  negative  \n",
       "...                                                  ...       ...  \n",
       "27476                                             d lost  negative  \n",
       "27477                                      , don`t force  negative  \n",
       "27478                          Yay good for both of you.  positive  \n",
       "27479                         But it was worth it  ****.  positive  \n",
       "27480  All this flirting going on - The ATG smiles. Y...   neutral  \n",
       "\n",
       "[27481 rows x 4 columns]"
      ]
     },
     "execution_count": 10,
     "metadata": {},
     "output_type": "execute_result"
    }
   ],
   "source": [
    "data_reference"
   ]
  },
  {
   "cell_type": "code",
   "execution_count": 11,
   "id": "828f5947",
   "metadata": {},
   "outputs": [],
   "source": [
    "data_reference = data_reference.drop(['textID','selected_text'],axis=1)"
   ]
  },
  {
   "cell_type": "code",
   "execution_count": 12,
   "id": "982f4219",
   "metadata": {},
   "outputs": [
    {
     "data": {
      "text/html": [
       "<div>\n",
       "<style scoped>\n",
       "    .dataframe tbody tr th:only-of-type {\n",
       "        vertical-align: middle;\n",
       "    }\n",
       "\n",
       "    .dataframe tbody tr th {\n",
       "        vertical-align: top;\n",
       "    }\n",
       "\n",
       "    .dataframe thead th {\n",
       "        text-align: right;\n",
       "    }\n",
       "</style>\n",
       "<table border=\"1\" class=\"dataframe\">\n",
       "  <thead>\n",
       "    <tr style=\"text-align: right;\">\n",
       "      <th></th>\n",
       "      <th>text</th>\n",
       "      <th>sentiment</th>\n",
       "    </tr>\n",
       "  </thead>\n",
       "  <tbody>\n",
       "    <tr>\n",
       "      <th>0</th>\n",
       "      <td>I`d have responded, if I were going</td>\n",
       "      <td>neutral</td>\n",
       "    </tr>\n",
       "    <tr>\n",
       "      <th>1</th>\n",
       "      <td>Sooo SAD I will miss you here in San Diego!!!</td>\n",
       "      <td>negative</td>\n",
       "    </tr>\n",
       "    <tr>\n",
       "      <th>2</th>\n",
       "      <td>my boss is bullying me...</td>\n",
       "      <td>negative</td>\n",
       "    </tr>\n",
       "    <tr>\n",
       "      <th>3</th>\n",
       "      <td>what interview! leave me alone</td>\n",
       "      <td>negative</td>\n",
       "    </tr>\n",
       "    <tr>\n",
       "      <th>4</th>\n",
       "      <td>Sons of ****, why couldn`t they put them on t...</td>\n",
       "      <td>negative</td>\n",
       "    </tr>\n",
       "    <tr>\n",
       "      <th>...</th>\n",
       "      <td>...</td>\n",
       "      <td>...</td>\n",
       "    </tr>\n",
       "    <tr>\n",
       "      <th>27476</th>\n",
       "      <td>wish we could come see u on Denver  husband l...</td>\n",
       "      <td>negative</td>\n",
       "    </tr>\n",
       "    <tr>\n",
       "      <th>27477</th>\n",
       "      <td>I`ve wondered about rake to.  The client has ...</td>\n",
       "      <td>negative</td>\n",
       "    </tr>\n",
       "    <tr>\n",
       "      <th>27478</th>\n",
       "      <td>Yay good for both of you. Enjoy the break - y...</td>\n",
       "      <td>positive</td>\n",
       "    </tr>\n",
       "    <tr>\n",
       "      <th>27479</th>\n",
       "      <td>But it was worth it  ****.</td>\n",
       "      <td>positive</td>\n",
       "    </tr>\n",
       "    <tr>\n",
       "      <th>27480</th>\n",
       "      <td>All this flirting going on - The ATG smiles...</td>\n",
       "      <td>neutral</td>\n",
       "    </tr>\n",
       "  </tbody>\n",
       "</table>\n",
       "<p>27481 rows × 2 columns</p>\n",
       "</div>"
      ],
      "text/plain": [
       "                                                    text sentiment\n",
       "0                    I`d have responded, if I were going   neutral\n",
       "1          Sooo SAD I will miss you here in San Diego!!!  negative\n",
       "2                              my boss is bullying me...  negative\n",
       "3                         what interview! leave me alone  negative\n",
       "4       Sons of ****, why couldn`t they put them on t...  negative\n",
       "...                                                  ...       ...\n",
       "27476   wish we could come see u on Denver  husband l...  negative\n",
       "27477   I`ve wondered about rake to.  The client has ...  negative\n",
       "27478   Yay good for both of you. Enjoy the break - y...  positive\n",
       "27479                         But it was worth it  ****.  positive\n",
       "27480     All this flirting going on - The ATG smiles...   neutral\n",
       "\n",
       "[27481 rows x 2 columns]"
      ]
     },
     "execution_count": 12,
     "metadata": {},
     "output_type": "execute_result"
    }
   ],
   "source": [
    "data_reference"
   ]
  },
  {
   "cell_type": "markdown",
   "id": "e4fe0dc2",
   "metadata": {},
   "source": [
    "##### Label Encoding for the o/p columns - +ve , -ve and zero"
   ]
  },
  {
   "cell_type": "code",
   "execution_count": 13,
   "id": "1afbd90f",
   "metadata": {},
   "outputs": [],
   "source": [
    "from sklearn.preprocessing import LabelEncoder\n",
    "le = LabelEncoder()\n",
    "y_train = le.fit_transform(train_data['sentiment'])\n",
    "y_test = le.transform(test_data['sentiment'])"
   ]
  },
  {
   "cell_type": "code",
   "execution_count": 14,
   "id": "59f33bdb",
   "metadata": {},
   "outputs": [
    {
     "data": {
      "text/plain": [
       "(27480,)"
      ]
     },
     "execution_count": 14,
     "metadata": {},
     "output_type": "execute_result"
    }
   ],
   "source": [
    "y_train.shape"
   ]
  },
  {
   "cell_type": "code",
   "execution_count": 15,
   "id": "14e35c43",
   "metadata": {},
   "outputs": [
    {
     "data": {
      "text/plain": [
       "array([1, 2, 0, ..., 0, 2, 2])"
      ]
     },
     "execution_count": 15,
     "metadata": {},
     "output_type": "execute_result"
    }
   ],
   "source": [
    "y_test"
   ]
  },
  {
   "cell_type": "markdown",
   "id": "cffc39d6",
   "metadata": {},
   "source": [
    "### Text Cleaning "
   ]
  },
  {
   "cell_type": "raw",
   "id": "1f63861e",
   "metadata": {},
   "source": [
    "import string\n",
    "print(string.punctuation)\n",
    "punctuations=string.punctuation\n",
    "punctuations\n",
    "import spacy\n",
    "nlp = spacy.load('en_core_web_sm')"
   ]
  },
  {
   "cell_type": "raw",
   "id": "14a30f65",
   "metadata": {},
   "source": [
    "b=\" Hello     all    \"\n",
    "b=b.strip()\n",
    "print([b])"
   ]
  },
  {
   "cell_type": "code",
   "execution_count": 16,
   "id": "1fa66a41",
   "metadata": {},
   "outputs": [],
   "source": [
    "def preprocessing_1(data:str):\n",
    "    data = data.strip()#Remove leading white spaces\n",
    "    data = data.lower()#Convert to lower case\n",
    "    url_pattern = re.compile(r\"https?://\\S+|www\\.\\S+\")\n",
    "    data = re.sub(url_pattern, \"\", data)\n",
    "    username_pattern = re.compile(r\"@\\w+\")\n",
    "    data = re.sub(username_pattern, \"\", data)\n",
    "    hashtag_pattern = re.compile(r\"#\\w+\")\n",
    "    data = re.sub(hashtag_pattern, \"\", data)\n",
    "    data = re.sub(r\"([a-zA-Z])\\1{2,}\", r'\\1', data)\n",
    "    data = re.sub(r'[^a-zA-Z\\s]',\"\",data)#Remove special characters\n",
    "    return data\n",
    "\n",
    "train_data['preprocess_1']=train_data['text'].apply(preprocessing_1)\n",
    "test_data['preprocess_1']=test_data['text'].apply(preprocessing_1)"
   ]
  },
  {
   "cell_type": "code",
   "execution_count": 17,
   "id": "03e88051",
   "metadata": {},
   "outputs": [],
   "source": [
    "train_data['preprocess_1']=train_data['text'].apply(preprocessing_1)"
   ]
  },
  {
   "cell_type": "code",
   "execution_count": 18,
   "id": "83b4759b",
   "metadata": {
    "scrolled": true
   },
   "outputs": [
    {
     "data": {
      "text/html": [
       "<div>\n",
       "<style scoped>\n",
       "    .dataframe tbody tr th:only-of-type {\n",
       "        vertical-align: middle;\n",
       "    }\n",
       "\n",
       "    .dataframe tbody tr th {\n",
       "        vertical-align: top;\n",
       "    }\n",
       "\n",
       "    .dataframe thead th {\n",
       "        text-align: right;\n",
       "    }\n",
       "</style>\n",
       "<table border=\"1\" class=\"dataframe\">\n",
       "  <thead>\n",
       "    <tr style=\"text-align: right;\">\n",
       "      <th></th>\n",
       "      <th>text</th>\n",
       "      <th>sentiment</th>\n",
       "      <th>preprocess_1</th>\n",
       "    </tr>\n",
       "  </thead>\n",
       "  <tbody>\n",
       "    <tr>\n",
       "      <th>0</th>\n",
       "      <td>I`d have responded, if I were going</td>\n",
       "      <td>neutral</td>\n",
       "      <td>id have responded if i were going</td>\n",
       "    </tr>\n",
       "    <tr>\n",
       "      <th>1</th>\n",
       "      <td>Sooo SAD I will miss you here in San Diego!!!</td>\n",
       "      <td>negative</td>\n",
       "      <td>so sad i will miss you here in san diego</td>\n",
       "    </tr>\n",
       "    <tr>\n",
       "      <th>2</th>\n",
       "      <td>my boss is bullying me...</td>\n",
       "      <td>negative</td>\n",
       "      <td>my boss is bullying me</td>\n",
       "    </tr>\n",
       "    <tr>\n",
       "      <th>3</th>\n",
       "      <td>what interview! leave me alone</td>\n",
       "      <td>negative</td>\n",
       "      <td>what interview leave me alone</td>\n",
       "    </tr>\n",
       "    <tr>\n",
       "      <th>4</th>\n",
       "      <td>Sons of ****, why couldn`t they put them on t...</td>\n",
       "      <td>negative</td>\n",
       "      <td>sons of  why couldnt they put them on the rele...</td>\n",
       "    </tr>\n",
       "    <tr>\n",
       "      <th>...</th>\n",
       "      <td>...</td>\n",
       "      <td>...</td>\n",
       "      <td>...</td>\n",
       "    </tr>\n",
       "    <tr>\n",
       "      <th>27476</th>\n",
       "      <td>wish we could come see u on Denver  husband l...</td>\n",
       "      <td>negative</td>\n",
       "      <td>wish we could come see u on denver  husband lo...</td>\n",
       "    </tr>\n",
       "    <tr>\n",
       "      <th>27477</th>\n",
       "      <td>I`ve wondered about rake to.  The client has ...</td>\n",
       "      <td>negative</td>\n",
       "      <td>ive wondered about rake to  the client has mad...</td>\n",
       "    </tr>\n",
       "    <tr>\n",
       "      <th>27478</th>\n",
       "      <td>Yay good for both of you. Enjoy the break - y...</td>\n",
       "      <td>positive</td>\n",
       "      <td>yay good for both of you enjoy the break  you ...</td>\n",
       "    </tr>\n",
       "    <tr>\n",
       "      <th>27479</th>\n",
       "      <td>But it was worth it  ****.</td>\n",
       "      <td>positive</td>\n",
       "      <td>but it was worth it</td>\n",
       "    </tr>\n",
       "    <tr>\n",
       "      <th>27480</th>\n",
       "      <td>All this flirting going on - The ATG smiles...</td>\n",
       "      <td>neutral</td>\n",
       "      <td>all this flirting going on  the atg smiles yay...</td>\n",
       "    </tr>\n",
       "  </tbody>\n",
       "</table>\n",
       "<p>27480 rows × 3 columns</p>\n",
       "</div>"
      ],
      "text/plain": [
       "                                                    text sentiment  \\\n",
       "0                    I`d have responded, if I were going   neutral   \n",
       "1          Sooo SAD I will miss you here in San Diego!!!  negative   \n",
       "2                              my boss is bullying me...  negative   \n",
       "3                         what interview! leave me alone  negative   \n",
       "4       Sons of ****, why couldn`t they put them on t...  negative   \n",
       "...                                                  ...       ...   \n",
       "27476   wish we could come see u on Denver  husband l...  negative   \n",
       "27477   I`ve wondered about rake to.  The client has ...  negative   \n",
       "27478   Yay good for both of you. Enjoy the break - y...  positive   \n",
       "27479                         But it was worth it  ****.  positive   \n",
       "27480     All this flirting going on - The ATG smiles...   neutral   \n",
       "\n",
       "                                            preprocess_1  \n",
       "0                      id have responded if i were going  \n",
       "1               so sad i will miss you here in san diego  \n",
       "2                                 my boss is bullying me  \n",
       "3                          what interview leave me alone  \n",
       "4      sons of  why couldnt they put them on the rele...  \n",
       "...                                                  ...  \n",
       "27476  wish we could come see u on denver  husband lo...  \n",
       "27477  ive wondered about rake to  the client has mad...  \n",
       "27478  yay good for both of you enjoy the break  you ...  \n",
       "27479                              but it was worth it    \n",
       "27480  all this flirting going on  the atg smiles yay...  \n",
       "\n",
       "[27480 rows x 3 columns]"
      ]
     },
     "execution_count": 18,
     "metadata": {},
     "output_type": "execute_result"
    }
   ],
   "source": [
    "train_data"
   ]
  },
  {
   "cell_type": "code",
   "execution_count": 19,
   "id": "4d0edef9",
   "metadata": {
    "scrolled": true
   },
   "outputs": [
    {
     "data": {
      "text/html": [
       "<div>\n",
       "<style scoped>\n",
       "    .dataframe tbody tr th:only-of-type {\n",
       "        vertical-align: middle;\n",
       "    }\n",
       "\n",
       "    .dataframe tbody tr th {\n",
       "        vertical-align: top;\n",
       "    }\n",
       "\n",
       "    .dataframe thead th {\n",
       "        text-align: right;\n",
       "    }\n",
       "</style>\n",
       "<table border=\"1\" class=\"dataframe\">\n",
       "  <thead>\n",
       "    <tr style=\"text-align: right;\">\n",
       "      <th></th>\n",
       "      <th>text</th>\n",
       "      <th>sentiment</th>\n",
       "      <th>preprocess_1</th>\n",
       "    </tr>\n",
       "  </thead>\n",
       "  <tbody>\n",
       "    <tr>\n",
       "      <th>0</th>\n",
       "      <td>Last session of the day  http://twitpic.com/67ezh</td>\n",
       "      <td>neutral</td>\n",
       "      <td>last session of the day</td>\n",
       "    </tr>\n",
       "    <tr>\n",
       "      <th>1</th>\n",
       "      <td>Shanghai is also really exciting (precisely -...</td>\n",
       "      <td>positive</td>\n",
       "      <td>shanghai is also really exciting precisely  sk...</td>\n",
       "    </tr>\n",
       "    <tr>\n",
       "      <th>2</th>\n",
       "      <td>Recession hit Veronique Branquinho, she has to...</td>\n",
       "      <td>negative</td>\n",
       "      <td>recession hit veronique branquinho she has to ...</td>\n",
       "    </tr>\n",
       "    <tr>\n",
       "      <th>3</th>\n",
       "      <td>happy bday!</td>\n",
       "      <td>positive</td>\n",
       "      <td>happy bday</td>\n",
       "    </tr>\n",
       "    <tr>\n",
       "      <th>4</th>\n",
       "      <td>http://twitpic.com/4w75p - I like it!!</td>\n",
       "      <td>positive</td>\n",
       "      <td>i like it</td>\n",
       "    </tr>\n",
       "    <tr>\n",
       "      <th>...</th>\n",
       "      <td>...</td>\n",
       "      <td>...</td>\n",
       "      <td>...</td>\n",
       "    </tr>\n",
       "    <tr>\n",
       "      <th>3529</th>\n",
       "      <td>its at 3 am, im very tired but i can`t sleep  ...</td>\n",
       "      <td>negative</td>\n",
       "      <td>its at  am im very tired but i cant sleep  but...</td>\n",
       "    </tr>\n",
       "    <tr>\n",
       "      <th>3530</th>\n",
       "      <td>All alone in this old house again.  Thanks for...</td>\n",
       "      <td>positive</td>\n",
       "      <td>all alone in this old house again  thanks for ...</td>\n",
       "    </tr>\n",
       "    <tr>\n",
       "      <th>3531</th>\n",
       "      <td>I know what you mean. My little dog is sinkin...</td>\n",
       "      <td>negative</td>\n",
       "      <td>i know what you mean my little dog is sinking ...</td>\n",
       "    </tr>\n",
       "    <tr>\n",
       "      <th>3532</th>\n",
       "      <td>_sutra what is your next youtube video gonna b...</td>\n",
       "      <td>positive</td>\n",
       "      <td>sutra what is your next youtube video gonna be...</td>\n",
       "    </tr>\n",
       "    <tr>\n",
       "      <th>3533</th>\n",
       "      <td>http://twitpic.com/4woj2 - omgssh  ang cute n...</td>\n",
       "      <td>positive</td>\n",
       "      <td>omgssh  ang cute ng bby</td>\n",
       "    </tr>\n",
       "  </tbody>\n",
       "</table>\n",
       "<p>3534 rows × 3 columns</p>\n",
       "</div>"
      ],
      "text/plain": [
       "                                                   text sentiment  \\\n",
       "0     Last session of the day  http://twitpic.com/67ezh   neutral   \n",
       "1      Shanghai is also really exciting (precisely -...  positive   \n",
       "2     Recession hit Veronique Branquinho, she has to...  negative   \n",
       "3                                           happy bday!  positive   \n",
       "4                http://twitpic.com/4w75p - I like it!!  positive   \n",
       "...                                                 ...       ...   \n",
       "3529  its at 3 am, im very tired but i can`t sleep  ...  negative   \n",
       "3530  All alone in this old house again.  Thanks for...  positive   \n",
       "3531   I know what you mean. My little dog is sinkin...  negative   \n",
       "3532  _sutra what is your next youtube video gonna b...  positive   \n",
       "3533   http://twitpic.com/4woj2 - omgssh  ang cute n...  positive   \n",
       "\n",
       "                                           preprocess_1  \n",
       "0                             last session of the day    \n",
       "1     shanghai is also really exciting precisely  sk...  \n",
       "2     recession hit veronique branquinho she has to ...  \n",
       "3                                            happy bday  \n",
       "4                                             i like it  \n",
       "...                                                 ...  \n",
       "3529  its at  am im very tired but i cant sleep  but...  \n",
       "3530  all alone in this old house again  thanks for ...  \n",
       "3531  i know what you mean my little dog is sinking ...  \n",
       "3532  sutra what is your next youtube video gonna be...  \n",
       "3533                            omgssh  ang cute ng bby  \n",
       "\n",
       "[3534 rows x 3 columns]"
      ]
     },
     "execution_count": 19,
     "metadata": {},
     "output_type": "execute_result"
    }
   ],
   "source": [
    "test_data"
   ]
  },
  {
   "cell_type": "code",
   "execution_count": 20,
   "id": "15fb279f",
   "metadata": {},
   "outputs": [],
   "source": [
    "#nltk.download('punkt')\n",
    "#nltk.download('averaged_perceptron_tagger')"
   ]
  },
  {
   "cell_type": "code",
   "execution_count": 21,
   "id": "8e0954a3",
   "metadata": {},
   "outputs": [],
   "source": [
    "def preprocessing_2(data:str):\n",
    "    data = nltk.word_tokenize(data)\n",
    "    def get_pos(word):\n",
    "        tag = nltk.pos_tag([word])[0][1].upper()\n",
    "        tag_dict = {\"N\":\"n\",\"V\":\"v\",\"R\":\"r\",\"J\":\"a\"}\n",
    "        return tag_dict.get(tag,\"n\")\n",
    "    lemma = nltk.stem.WordNetLemmatizer()\n",
    "    data = [lemma.lemmatize(word,pos=get_pos(word))for word in data]\n",
    "    return data\n",
    "    \n",
    "train_data['preprocess_2']=train_data[\"preprocess_1\"].apply(preprocessing_2)\n"
   ]
  },
  {
   "cell_type": "code",
   "execution_count": 22,
   "id": "d267aca8",
   "metadata": {},
   "outputs": [],
   "source": [
    "test_data['preprocess_2']=test_data[\"preprocess_1\"].apply(preprocessing_2)"
   ]
  },
  {
   "cell_type": "code",
   "execution_count": 23,
   "id": "be680d44",
   "metadata": {},
   "outputs": [
    {
     "data": {
      "text/html": [
       "<div>\n",
       "<style scoped>\n",
       "    .dataframe tbody tr th:only-of-type {\n",
       "        vertical-align: middle;\n",
       "    }\n",
       "\n",
       "    .dataframe tbody tr th {\n",
       "        vertical-align: top;\n",
       "    }\n",
       "\n",
       "    .dataframe thead th {\n",
       "        text-align: right;\n",
       "    }\n",
       "</style>\n",
       "<table border=\"1\" class=\"dataframe\">\n",
       "  <thead>\n",
       "    <tr style=\"text-align: right;\">\n",
       "      <th></th>\n",
       "      <th>text</th>\n",
       "      <th>sentiment</th>\n",
       "      <th>preprocess_1</th>\n",
       "      <th>preprocess_2</th>\n",
       "    </tr>\n",
       "  </thead>\n",
       "  <tbody>\n",
       "    <tr>\n",
       "      <th>0</th>\n",
       "      <td>I`d have responded, if I were going</td>\n",
       "      <td>neutral</td>\n",
       "      <td>id have responded if i were going</td>\n",
       "      <td>[id, have, responded, if, i, were, going]</td>\n",
       "    </tr>\n",
       "    <tr>\n",
       "      <th>1</th>\n",
       "      <td>Sooo SAD I will miss you here in San Diego!!!</td>\n",
       "      <td>negative</td>\n",
       "      <td>so sad i will miss you here in san diego</td>\n",
       "      <td>[so, sad, i, will, miss, you, here, in, san, d...</td>\n",
       "    </tr>\n",
       "    <tr>\n",
       "      <th>2</th>\n",
       "      <td>my boss is bullying me...</td>\n",
       "      <td>negative</td>\n",
       "      <td>my boss is bullying me</td>\n",
       "      <td>[my, bos, is, bullying, me]</td>\n",
       "    </tr>\n",
       "    <tr>\n",
       "      <th>3</th>\n",
       "      <td>what interview! leave me alone</td>\n",
       "      <td>negative</td>\n",
       "      <td>what interview leave me alone</td>\n",
       "      <td>[what, interview, leave, me, alone]</td>\n",
       "    </tr>\n",
       "    <tr>\n",
       "      <th>4</th>\n",
       "      <td>Sons of ****, why couldn`t they put them on t...</td>\n",
       "      <td>negative</td>\n",
       "      <td>sons of  why couldnt they put them on the rele...</td>\n",
       "      <td>[son, of, why, couldnt, they, put, them, on, t...</td>\n",
       "    </tr>\n",
       "    <tr>\n",
       "      <th>...</th>\n",
       "      <td>...</td>\n",
       "      <td>...</td>\n",
       "      <td>...</td>\n",
       "      <td>...</td>\n",
       "    </tr>\n",
       "    <tr>\n",
       "      <th>27476</th>\n",
       "      <td>wish we could come see u on Denver  husband l...</td>\n",
       "      <td>negative</td>\n",
       "      <td>wish we could come see u on denver  husband lo...</td>\n",
       "      <td>[wish, we, could, come, see, u, on, denver, hu...</td>\n",
       "    </tr>\n",
       "    <tr>\n",
       "      <th>27477</th>\n",
       "      <td>I`ve wondered about rake to.  The client has ...</td>\n",
       "      <td>negative</td>\n",
       "      <td>ive wondered about rake to  the client has mad...</td>\n",
       "      <td>[ive, wondered, about, rake, to, the, client, ...</td>\n",
       "    </tr>\n",
       "    <tr>\n",
       "      <th>27478</th>\n",
       "      <td>Yay good for both of you. Enjoy the break - y...</td>\n",
       "      <td>positive</td>\n",
       "      <td>yay good for both of you enjoy the break  you ...</td>\n",
       "      <td>[yay, good, for, both, of, you, enjoy, the, br...</td>\n",
       "    </tr>\n",
       "    <tr>\n",
       "      <th>27479</th>\n",
       "      <td>But it was worth it  ****.</td>\n",
       "      <td>positive</td>\n",
       "      <td>but it was worth it</td>\n",
       "      <td>[but, it, wa, worth, it]</td>\n",
       "    </tr>\n",
       "    <tr>\n",
       "      <th>27480</th>\n",
       "      <td>All this flirting going on - The ATG smiles...</td>\n",
       "      <td>neutral</td>\n",
       "      <td>all this flirting going on  the atg smiles yay...</td>\n",
       "      <td>[all, this, flirting, going, on, the, atg, smi...</td>\n",
       "    </tr>\n",
       "  </tbody>\n",
       "</table>\n",
       "<p>27480 rows × 4 columns</p>\n",
       "</div>"
      ],
      "text/plain": [
       "                                                    text sentiment  \\\n",
       "0                    I`d have responded, if I were going   neutral   \n",
       "1          Sooo SAD I will miss you here in San Diego!!!  negative   \n",
       "2                              my boss is bullying me...  negative   \n",
       "3                         what interview! leave me alone  negative   \n",
       "4       Sons of ****, why couldn`t they put them on t...  negative   \n",
       "...                                                  ...       ...   \n",
       "27476   wish we could come see u on Denver  husband l...  negative   \n",
       "27477   I`ve wondered about rake to.  The client has ...  negative   \n",
       "27478   Yay good for both of you. Enjoy the break - y...  positive   \n",
       "27479                         But it was worth it  ****.  positive   \n",
       "27480     All this flirting going on - The ATG smiles...   neutral   \n",
       "\n",
       "                                            preprocess_1  \\\n",
       "0                      id have responded if i were going   \n",
       "1               so sad i will miss you here in san diego   \n",
       "2                                 my boss is bullying me   \n",
       "3                          what interview leave me alone   \n",
       "4      sons of  why couldnt they put them on the rele...   \n",
       "...                                                  ...   \n",
       "27476  wish we could come see u on denver  husband lo...   \n",
       "27477  ive wondered about rake to  the client has mad...   \n",
       "27478  yay good for both of you enjoy the break  you ...   \n",
       "27479                              but it was worth it     \n",
       "27480  all this flirting going on  the atg smiles yay...   \n",
       "\n",
       "                                            preprocess_2  \n",
       "0              [id, have, responded, if, i, were, going]  \n",
       "1      [so, sad, i, will, miss, you, here, in, san, d...  \n",
       "2                            [my, bos, is, bullying, me]  \n",
       "3                    [what, interview, leave, me, alone]  \n",
       "4      [son, of, why, couldnt, they, put, them, on, t...  \n",
       "...                                                  ...  \n",
       "27476  [wish, we, could, come, see, u, on, denver, hu...  \n",
       "27477  [ive, wondered, about, rake, to, the, client, ...  \n",
       "27478  [yay, good, for, both, of, you, enjoy, the, br...  \n",
       "27479                           [but, it, wa, worth, it]  \n",
       "27480  [all, this, flirting, going, on, the, atg, smi...  \n",
       "\n",
       "[27480 rows x 4 columns]"
      ]
     },
     "execution_count": 23,
     "metadata": {},
     "output_type": "execute_result"
    }
   ],
   "source": [
    "train_data"
   ]
  },
  {
   "cell_type": "code",
   "execution_count": 24,
   "id": "863dc49c",
   "metadata": {},
   "outputs": [
    {
     "data": {
      "text/html": [
       "<div>\n",
       "<style scoped>\n",
       "    .dataframe tbody tr th:only-of-type {\n",
       "        vertical-align: middle;\n",
       "    }\n",
       "\n",
       "    .dataframe tbody tr th {\n",
       "        vertical-align: top;\n",
       "    }\n",
       "\n",
       "    .dataframe thead th {\n",
       "        text-align: right;\n",
       "    }\n",
       "</style>\n",
       "<table border=\"1\" class=\"dataframe\">\n",
       "  <thead>\n",
       "    <tr style=\"text-align: right;\">\n",
       "      <th></th>\n",
       "      <th>text</th>\n",
       "      <th>sentiment</th>\n",
       "      <th>preprocess_1</th>\n",
       "      <th>preprocess_2</th>\n",
       "    </tr>\n",
       "  </thead>\n",
       "  <tbody>\n",
       "    <tr>\n",
       "      <th>0</th>\n",
       "      <td>Last session of the day  http://twitpic.com/67ezh</td>\n",
       "      <td>neutral</td>\n",
       "      <td>last session of the day</td>\n",
       "      <td>[last, session, of, the, day]</td>\n",
       "    </tr>\n",
       "    <tr>\n",
       "      <th>1</th>\n",
       "      <td>Shanghai is also really exciting (precisely -...</td>\n",
       "      <td>positive</td>\n",
       "      <td>shanghai is also really exciting precisely  sk...</td>\n",
       "      <td>[shanghai, is, also, really, exciting, precise...</td>\n",
       "    </tr>\n",
       "    <tr>\n",
       "      <th>2</th>\n",
       "      <td>Recession hit Veronique Branquinho, she has to...</td>\n",
       "      <td>negative</td>\n",
       "      <td>recession hit veronique branquinho she has to ...</td>\n",
       "      <td>[recession, hit, veronique, branquinho, she, h...</td>\n",
       "    </tr>\n",
       "    <tr>\n",
       "      <th>3</th>\n",
       "      <td>happy bday!</td>\n",
       "      <td>positive</td>\n",
       "      <td>happy bday</td>\n",
       "      <td>[happy, bday]</td>\n",
       "    </tr>\n",
       "    <tr>\n",
       "      <th>4</th>\n",
       "      <td>http://twitpic.com/4w75p - I like it!!</td>\n",
       "      <td>positive</td>\n",
       "      <td>i like it</td>\n",
       "      <td>[i, like, it]</td>\n",
       "    </tr>\n",
       "  </tbody>\n",
       "</table>\n",
       "</div>"
      ],
      "text/plain": [
       "                                                text sentiment  \\\n",
       "0  Last session of the day  http://twitpic.com/67ezh   neutral   \n",
       "1   Shanghai is also really exciting (precisely -...  positive   \n",
       "2  Recession hit Veronique Branquinho, she has to...  negative   \n",
       "3                                        happy bday!  positive   \n",
       "4             http://twitpic.com/4w75p - I like it!!  positive   \n",
       "\n",
       "                                        preprocess_1  \\\n",
       "0                          last session of the day     \n",
       "1  shanghai is also really exciting precisely  sk...   \n",
       "2  recession hit veronique branquinho she has to ...   \n",
       "3                                         happy bday   \n",
       "4                                          i like it   \n",
       "\n",
       "                                        preprocess_2  \n",
       "0                      [last, session, of, the, day]  \n",
       "1  [shanghai, is, also, really, exciting, precise...  \n",
       "2  [recession, hit, veronique, branquinho, she, h...  \n",
       "3                                      [happy, bday]  \n",
       "4                                      [i, like, it]  "
      ]
     },
     "execution_count": 24,
     "metadata": {},
     "output_type": "execute_result"
    }
   ],
   "source": [
    "test_data.head(5)"
   ]
  },
  {
   "cell_type": "code",
   "execution_count": 25,
   "id": "9af7d00b",
   "metadata": {},
   "outputs": [],
   "source": [
    "train_data[\"documents\"] = train_data[\"preprocess_2\"].apply(lambda x : \" \".join(x))\n",
    "test_data[\"documents\"] = test_data[\"preprocess_2\"].apply(lambda x : \" \".join(x))"
   ]
  },
  {
   "cell_type": "code",
   "execution_count": 29,
   "id": "42a2ec6e",
   "metadata": {},
   "outputs": [],
   "source": [
    "train_data.head(5)\n",
    "train_data.to_csv('processed_train_senti.csv', index=False)"
   ]
  },
  {
   "cell_type": "code",
   "execution_count": 27,
   "id": "5f1a6513",
   "metadata": {},
   "outputs": [
    {
     "data": {
      "text/html": [
       "<div>\n",
       "<style scoped>\n",
       "    .dataframe tbody tr th:only-of-type {\n",
       "        vertical-align: middle;\n",
       "    }\n",
       "\n",
       "    .dataframe tbody tr th {\n",
       "        vertical-align: top;\n",
       "    }\n",
       "\n",
       "    .dataframe thead th {\n",
       "        text-align: right;\n",
       "    }\n",
       "</style>\n",
       "<table border=\"1\" class=\"dataframe\">\n",
       "  <thead>\n",
       "    <tr style=\"text-align: right;\">\n",
       "      <th></th>\n",
       "      <th>text</th>\n",
       "      <th>sentiment</th>\n",
       "      <th>preprocess_1</th>\n",
       "      <th>preprocess_2</th>\n",
       "      <th>documents</th>\n",
       "    </tr>\n",
       "  </thead>\n",
       "  <tbody>\n",
       "    <tr>\n",
       "      <th>0</th>\n",
       "      <td>Last session of the day  http://twitpic.com/67ezh</td>\n",
       "      <td>neutral</td>\n",
       "      <td>last session of the day</td>\n",
       "      <td>[last, session, of, the, day]</td>\n",
       "      <td>last session of the day</td>\n",
       "    </tr>\n",
       "    <tr>\n",
       "      <th>1</th>\n",
       "      <td>Shanghai is also really exciting (precisely -...</td>\n",
       "      <td>positive</td>\n",
       "      <td>shanghai is also really exciting precisely  sk...</td>\n",
       "      <td>[shanghai, is, also, really, exciting, precise...</td>\n",
       "      <td>shanghai is also really exciting precisely sky...</td>\n",
       "    </tr>\n",
       "    <tr>\n",
       "      <th>2</th>\n",
       "      <td>Recession hit Veronique Branquinho, she has to...</td>\n",
       "      <td>negative</td>\n",
       "      <td>recession hit veronique branquinho she has to ...</td>\n",
       "      <td>[recession, hit, veronique, branquinho, she, h...</td>\n",
       "      <td>recession hit veronique branquinho she ha to q...</td>\n",
       "    </tr>\n",
       "    <tr>\n",
       "      <th>3</th>\n",
       "      <td>happy bday!</td>\n",
       "      <td>positive</td>\n",
       "      <td>happy bday</td>\n",
       "      <td>[happy, bday]</td>\n",
       "      <td>happy bday</td>\n",
       "    </tr>\n",
       "    <tr>\n",
       "      <th>4</th>\n",
       "      <td>http://twitpic.com/4w75p - I like it!!</td>\n",
       "      <td>positive</td>\n",
       "      <td>i like it</td>\n",
       "      <td>[i, like, it]</td>\n",
       "      <td>i like it</td>\n",
       "    </tr>\n",
       "  </tbody>\n",
       "</table>\n",
       "</div>"
      ],
      "text/plain": [
       "                                                text sentiment  \\\n",
       "0  Last session of the day  http://twitpic.com/67ezh   neutral   \n",
       "1   Shanghai is also really exciting (precisely -...  positive   \n",
       "2  Recession hit Veronique Branquinho, she has to...  negative   \n",
       "3                                        happy bday!  positive   \n",
       "4             http://twitpic.com/4w75p - I like it!!  positive   \n",
       "\n",
       "                                        preprocess_1  \\\n",
       "0                          last session of the day     \n",
       "1  shanghai is also really exciting precisely  sk...   \n",
       "2  recession hit veronique branquinho she has to ...   \n",
       "3                                         happy bday   \n",
       "4                                          i like it   \n",
       "\n",
       "                                        preprocess_2  \\\n",
       "0                      [last, session, of, the, day]   \n",
       "1  [shanghai, is, also, really, exciting, precise...   \n",
       "2  [recession, hit, veronique, branquinho, she, h...   \n",
       "3                                      [happy, bday]   \n",
       "4                                      [i, like, it]   \n",
       "\n",
       "                                           documents  \n",
       "0                            last session of the day  \n",
       "1  shanghai is also really exciting precisely sky...  \n",
       "2  recession hit veronique branquinho she ha to q...  \n",
       "3                                         happy bday  \n",
       "4                                          i like it  "
      ]
     },
     "execution_count": 27,
     "metadata": {},
     "output_type": "execute_result"
    }
   ],
   "source": [
    "test_data.head(5)"
   ]
  },
  {
   "cell_type": "code",
   "execution_count": 28,
   "id": "161d67f4",
   "metadata": {},
   "outputs": [],
   "source": [
    "res_1 = preprocessing_1(\" Hellooooo I'ammmm keerthan@gmail.com #NLP is niceeeee\")"
   ]
  },
  {
   "cell_type": "code",
   "execution_count": 32,
   "id": "749a223c",
   "metadata": {},
   "outputs": [
    {
     "data": {
      "text/plain": [
       "'hello iam keerthancom  is nice'"
      ]
     },
     "execution_count": 32,
     "metadata": {},
     "output_type": "execute_result"
    }
   ],
   "source": [
    "res_1"
   ]
  },
  {
   "cell_type": "code",
   "execution_count": 33,
   "id": "25152b28",
   "metadata": {},
   "outputs": [
    {
     "data": {
      "text/plain": [
       "['hello', 'iam', 'keerthancom', 'is', 'nice']"
      ]
     },
     "execution_count": 33,
     "metadata": {},
     "output_type": "execute_result"
    }
   ],
   "source": [
    "preprocessing_2(res_1)"
   ]
  },
  {
   "cell_type": "markdown",
   "id": "2fea02ab",
   "metadata": {},
   "source": [
    "### Creating a vocabulary from the unique words in the text - set()"
   ]
  },
  {
   "cell_type": "code",
   "execution_count": 34,
   "id": "b9d99ddb",
   "metadata": {},
   "outputs": [
    {
     "name": "stdout",
     "output_type": "stream",
     "text": [
      "Vocabulary Size: 23462\n"
     ]
    }
   ],
   "source": [
    "vocab = set()\n",
    "for words in train_data['preprocess_2']:\n",
    "    for word in words:\n",
    "        vocab.add(word)\n",
    "print(\"Vocabulary Size:\",len(vocab))"
   ]
  },
  {
   "cell_type": "markdown",
   "id": "3f682631",
   "metadata": {},
   "source": [
    "#### Vectorization"
   ]
  },
  {
   "cell_type": "markdown",
   "id": "2092f9ff",
   "metadata": {},
   "source": [
    "### Bag of words"
   ]
  },
  {
   "cell_type": "code",
   "execution_count": 35,
   "id": "0060f6fc",
   "metadata": {},
   "outputs": [],
   "source": [
    "from sklearn.feature_extraction.text import CountVectorizer\n",
    "bow = CountVectorizer()\n",
    "train_bow = bow.fit_transform(train_data['documents'])\n",
    "test_bow = bow.transform(test_data['documents'])"
   ]
  },
  {
   "cell_type": "code",
   "execution_count": 36,
   "id": "876d9b58",
   "metadata": {},
   "outputs": [
    {
     "data": {
      "text/html": [
       "<style>#sk-container-id-1 {\n",
       "  /* Definition of color scheme common for light and dark mode */\n",
       "  --sklearn-color-text: black;\n",
       "  --sklearn-color-line: gray;\n",
       "  /* Definition of color scheme for unfitted estimators */\n",
       "  --sklearn-color-unfitted-level-0: #fff5e6;\n",
       "  --sklearn-color-unfitted-level-1: #f6e4d2;\n",
       "  --sklearn-color-unfitted-level-2: #ffe0b3;\n",
       "  --sklearn-color-unfitted-level-3: chocolate;\n",
       "  /* Definition of color scheme for fitted estimators */\n",
       "  --sklearn-color-fitted-level-0: #f0f8ff;\n",
       "  --sklearn-color-fitted-level-1: #d4ebff;\n",
       "  --sklearn-color-fitted-level-2: #b3dbfd;\n",
       "  --sklearn-color-fitted-level-3: cornflowerblue;\n",
       "\n",
       "  /* Specific color for light theme */\n",
       "  --sklearn-color-text-on-default-background: var(--sg-text-color, var(--theme-code-foreground, var(--jp-content-font-color1, black)));\n",
       "  --sklearn-color-background: var(--sg-background-color, var(--theme-background, var(--jp-layout-color0, white)));\n",
       "  --sklearn-color-border-box: var(--sg-text-color, var(--theme-code-foreground, var(--jp-content-font-color1, black)));\n",
       "  --sklearn-color-icon: #696969;\n",
       "\n",
       "  @media (prefers-color-scheme: dark) {\n",
       "    /* Redefinition of color scheme for dark theme */\n",
       "    --sklearn-color-text-on-default-background: var(--sg-text-color, var(--theme-code-foreground, var(--jp-content-font-color1, white)));\n",
       "    --sklearn-color-background: var(--sg-background-color, var(--theme-background, var(--jp-layout-color0, #111)));\n",
       "    --sklearn-color-border-box: var(--sg-text-color, var(--theme-code-foreground, var(--jp-content-font-color1, white)));\n",
       "    --sklearn-color-icon: #878787;\n",
       "  }\n",
       "}\n",
       "\n",
       "#sk-container-id-1 {\n",
       "  color: var(--sklearn-color-text);\n",
       "}\n",
       "\n",
       "#sk-container-id-1 pre {\n",
       "  padding: 0;\n",
       "}\n",
       "\n",
       "#sk-container-id-1 input.sk-hidden--visually {\n",
       "  border: 0;\n",
       "  clip: rect(1px 1px 1px 1px);\n",
       "  clip: rect(1px, 1px, 1px, 1px);\n",
       "  height: 1px;\n",
       "  margin: -1px;\n",
       "  overflow: hidden;\n",
       "  padding: 0;\n",
       "  position: absolute;\n",
       "  width: 1px;\n",
       "}\n",
       "\n",
       "#sk-container-id-1 div.sk-dashed-wrapped {\n",
       "  border: 1px dashed var(--sklearn-color-line);\n",
       "  margin: 0 0.4em 0.5em 0.4em;\n",
       "  box-sizing: border-box;\n",
       "  padding-bottom: 0.4em;\n",
       "  background-color: var(--sklearn-color-background);\n",
       "}\n",
       "\n",
       "#sk-container-id-1 div.sk-container {\n",
       "  /* jupyter's `normalize.less` sets `[hidden] { display: none; }`\n",
       "     but bootstrap.min.css set `[hidden] { display: none !important; }`\n",
       "     so we also need the `!important` here to be able to override the\n",
       "     default hidden behavior on the sphinx rendered scikit-learn.org.\n",
       "     See: https://github.com/scikit-learn/scikit-learn/issues/21755 */\n",
       "  display: inline-block !important;\n",
       "  position: relative;\n",
       "}\n",
       "\n",
       "#sk-container-id-1 div.sk-text-repr-fallback {\n",
       "  display: none;\n",
       "}\n",
       "\n",
       "div.sk-parallel-item,\n",
       "div.sk-serial,\n",
       "div.sk-item {\n",
       "  /* draw centered vertical line to link estimators */\n",
       "  background-image: linear-gradient(var(--sklearn-color-text-on-default-background), var(--sklearn-color-text-on-default-background));\n",
       "  background-size: 2px 100%;\n",
       "  background-repeat: no-repeat;\n",
       "  background-position: center center;\n",
       "}\n",
       "\n",
       "/* Parallel-specific style estimator block */\n",
       "\n",
       "#sk-container-id-1 div.sk-parallel-item::after {\n",
       "  content: \"\";\n",
       "  width: 100%;\n",
       "  border-bottom: 2px solid var(--sklearn-color-text-on-default-background);\n",
       "  flex-grow: 1;\n",
       "}\n",
       "\n",
       "#sk-container-id-1 div.sk-parallel {\n",
       "  display: flex;\n",
       "  align-items: stretch;\n",
       "  justify-content: center;\n",
       "  background-color: var(--sklearn-color-background);\n",
       "  position: relative;\n",
       "}\n",
       "\n",
       "#sk-container-id-1 div.sk-parallel-item {\n",
       "  display: flex;\n",
       "  flex-direction: column;\n",
       "}\n",
       "\n",
       "#sk-container-id-1 div.sk-parallel-item:first-child::after {\n",
       "  align-self: flex-end;\n",
       "  width: 50%;\n",
       "}\n",
       "\n",
       "#sk-container-id-1 div.sk-parallel-item:last-child::after {\n",
       "  align-self: flex-start;\n",
       "  width: 50%;\n",
       "}\n",
       "\n",
       "#sk-container-id-1 div.sk-parallel-item:only-child::after {\n",
       "  width: 0;\n",
       "}\n",
       "\n",
       "/* Serial-specific style estimator block */\n",
       "\n",
       "#sk-container-id-1 div.sk-serial {\n",
       "  display: flex;\n",
       "  flex-direction: column;\n",
       "  align-items: center;\n",
       "  background-color: var(--sklearn-color-background);\n",
       "  padding-right: 1em;\n",
       "  padding-left: 1em;\n",
       "}\n",
       "\n",
       "\n",
       "/* Toggleable style: style used for estimator/Pipeline/ColumnTransformer box that is\n",
       "clickable and can be expanded/collapsed.\n",
       "- Pipeline and ColumnTransformer use this feature and define the default style\n",
       "- Estimators will overwrite some part of the style using the `sk-estimator` class\n",
       "*/\n",
       "\n",
       "/* Pipeline and ColumnTransformer style (default) */\n",
       "\n",
       "#sk-container-id-1 div.sk-toggleable {\n",
       "  /* Default theme specific background. It is overwritten whether we have a\n",
       "  specific estimator or a Pipeline/ColumnTransformer */\n",
       "  background-color: var(--sklearn-color-background);\n",
       "}\n",
       "\n",
       "/* Toggleable label */\n",
       "#sk-container-id-1 label.sk-toggleable__label {\n",
       "  cursor: pointer;\n",
       "  display: block;\n",
       "  width: 100%;\n",
       "  margin-bottom: 0;\n",
       "  padding: 0.5em;\n",
       "  box-sizing: border-box;\n",
       "  text-align: center;\n",
       "}\n",
       "\n",
       "#sk-container-id-1 label.sk-toggleable__label-arrow:before {\n",
       "  /* Arrow on the left of the label */\n",
       "  content: \"▸\";\n",
       "  float: left;\n",
       "  margin-right: 0.25em;\n",
       "  color: var(--sklearn-color-icon);\n",
       "}\n",
       "\n",
       "#sk-container-id-1 label.sk-toggleable__label-arrow:hover:before {\n",
       "  color: var(--sklearn-color-text);\n",
       "}\n",
       "\n",
       "/* Toggleable content - dropdown */\n",
       "\n",
       "#sk-container-id-1 div.sk-toggleable__content {\n",
       "  max-height: 0;\n",
       "  max-width: 0;\n",
       "  overflow: hidden;\n",
       "  text-align: left;\n",
       "  /* unfitted */\n",
       "  background-color: var(--sklearn-color-unfitted-level-0);\n",
       "}\n",
       "\n",
       "#sk-container-id-1 div.sk-toggleable__content.fitted {\n",
       "  /* fitted */\n",
       "  background-color: var(--sklearn-color-fitted-level-0);\n",
       "}\n",
       "\n",
       "#sk-container-id-1 div.sk-toggleable__content pre {\n",
       "  margin: 0.2em;\n",
       "  border-radius: 0.25em;\n",
       "  color: var(--sklearn-color-text);\n",
       "  /* unfitted */\n",
       "  background-color: var(--sklearn-color-unfitted-level-0);\n",
       "}\n",
       "\n",
       "#sk-container-id-1 div.sk-toggleable__content.fitted pre {\n",
       "  /* unfitted */\n",
       "  background-color: var(--sklearn-color-fitted-level-0);\n",
       "}\n",
       "\n",
       "#sk-container-id-1 input.sk-toggleable__control:checked~div.sk-toggleable__content {\n",
       "  /* Expand drop-down */\n",
       "  max-height: 200px;\n",
       "  max-width: 100%;\n",
       "  overflow: auto;\n",
       "}\n",
       "\n",
       "#sk-container-id-1 input.sk-toggleable__control:checked~label.sk-toggleable__label-arrow:before {\n",
       "  content: \"▾\";\n",
       "}\n",
       "\n",
       "/* Pipeline/ColumnTransformer-specific style */\n",
       "\n",
       "#sk-container-id-1 div.sk-label input.sk-toggleable__control:checked~label.sk-toggleable__label {\n",
       "  color: var(--sklearn-color-text);\n",
       "  background-color: var(--sklearn-color-unfitted-level-2);\n",
       "}\n",
       "\n",
       "#sk-container-id-1 div.sk-label.fitted input.sk-toggleable__control:checked~label.sk-toggleable__label {\n",
       "  background-color: var(--sklearn-color-fitted-level-2);\n",
       "}\n",
       "\n",
       "/* Estimator-specific style */\n",
       "\n",
       "/* Colorize estimator box */\n",
       "#sk-container-id-1 div.sk-estimator input.sk-toggleable__control:checked~label.sk-toggleable__label {\n",
       "  /* unfitted */\n",
       "  background-color: var(--sklearn-color-unfitted-level-2);\n",
       "}\n",
       "\n",
       "#sk-container-id-1 div.sk-estimator.fitted input.sk-toggleable__control:checked~label.sk-toggleable__label {\n",
       "  /* fitted */\n",
       "  background-color: var(--sklearn-color-fitted-level-2);\n",
       "}\n",
       "\n",
       "#sk-container-id-1 div.sk-label label.sk-toggleable__label,\n",
       "#sk-container-id-1 div.sk-label label {\n",
       "  /* The background is the default theme color */\n",
       "  color: var(--sklearn-color-text-on-default-background);\n",
       "}\n",
       "\n",
       "/* On hover, darken the color of the background */\n",
       "#sk-container-id-1 div.sk-label:hover label.sk-toggleable__label {\n",
       "  color: var(--sklearn-color-text);\n",
       "  background-color: var(--sklearn-color-unfitted-level-2);\n",
       "}\n",
       "\n",
       "/* Label box, darken color on hover, fitted */\n",
       "#sk-container-id-1 div.sk-label.fitted:hover label.sk-toggleable__label.fitted {\n",
       "  color: var(--sklearn-color-text);\n",
       "  background-color: var(--sklearn-color-fitted-level-2);\n",
       "}\n",
       "\n",
       "/* Estimator label */\n",
       "\n",
       "#sk-container-id-1 div.sk-label label {\n",
       "  font-family: monospace;\n",
       "  font-weight: bold;\n",
       "  display: inline-block;\n",
       "  line-height: 1.2em;\n",
       "}\n",
       "\n",
       "#sk-container-id-1 div.sk-label-container {\n",
       "  text-align: center;\n",
       "}\n",
       "\n",
       "/* Estimator-specific */\n",
       "#sk-container-id-1 div.sk-estimator {\n",
       "  font-family: monospace;\n",
       "  border: 1px dotted var(--sklearn-color-border-box);\n",
       "  border-radius: 0.25em;\n",
       "  box-sizing: border-box;\n",
       "  margin-bottom: 0.5em;\n",
       "  /* unfitted */\n",
       "  background-color: var(--sklearn-color-unfitted-level-0);\n",
       "}\n",
       "\n",
       "#sk-container-id-1 div.sk-estimator.fitted {\n",
       "  /* fitted */\n",
       "  background-color: var(--sklearn-color-fitted-level-0);\n",
       "}\n",
       "\n",
       "/* on hover */\n",
       "#sk-container-id-1 div.sk-estimator:hover {\n",
       "  /* unfitted */\n",
       "  background-color: var(--sklearn-color-unfitted-level-2);\n",
       "}\n",
       "\n",
       "#sk-container-id-1 div.sk-estimator.fitted:hover {\n",
       "  /* fitted */\n",
       "  background-color: var(--sklearn-color-fitted-level-2);\n",
       "}\n",
       "\n",
       "/* Specification for estimator info (e.g. \"i\" and \"?\") */\n",
       "\n",
       "/* Common style for \"i\" and \"?\" */\n",
       "\n",
       ".sk-estimator-doc-link,\n",
       "a:link.sk-estimator-doc-link,\n",
       "a:visited.sk-estimator-doc-link {\n",
       "  float: right;\n",
       "  font-size: smaller;\n",
       "  line-height: 1em;\n",
       "  font-family: monospace;\n",
       "  background-color: var(--sklearn-color-background);\n",
       "  border-radius: 1em;\n",
       "  height: 1em;\n",
       "  width: 1em;\n",
       "  text-decoration: none !important;\n",
       "  margin-left: 1ex;\n",
       "  /* unfitted */\n",
       "  border: var(--sklearn-color-unfitted-level-1) 1pt solid;\n",
       "  color: var(--sklearn-color-unfitted-level-1);\n",
       "}\n",
       "\n",
       ".sk-estimator-doc-link.fitted,\n",
       "a:link.sk-estimator-doc-link.fitted,\n",
       "a:visited.sk-estimator-doc-link.fitted {\n",
       "  /* fitted */\n",
       "  border: var(--sklearn-color-fitted-level-1) 1pt solid;\n",
       "  color: var(--sklearn-color-fitted-level-1);\n",
       "}\n",
       "\n",
       "/* On hover */\n",
       "div.sk-estimator:hover .sk-estimator-doc-link:hover,\n",
       ".sk-estimator-doc-link:hover,\n",
       "div.sk-label-container:hover .sk-estimator-doc-link:hover,\n",
       ".sk-estimator-doc-link:hover {\n",
       "  /* unfitted */\n",
       "  background-color: var(--sklearn-color-unfitted-level-3);\n",
       "  color: var(--sklearn-color-background);\n",
       "  text-decoration: none;\n",
       "}\n",
       "\n",
       "div.sk-estimator.fitted:hover .sk-estimator-doc-link.fitted:hover,\n",
       ".sk-estimator-doc-link.fitted:hover,\n",
       "div.sk-label-container:hover .sk-estimator-doc-link.fitted:hover,\n",
       ".sk-estimator-doc-link.fitted:hover {\n",
       "  /* fitted */\n",
       "  background-color: var(--sklearn-color-fitted-level-3);\n",
       "  color: var(--sklearn-color-background);\n",
       "  text-decoration: none;\n",
       "}\n",
       "\n",
       "/* Span, style for the box shown on hovering the info icon */\n",
       ".sk-estimator-doc-link span {\n",
       "  display: none;\n",
       "  z-index: 9999;\n",
       "  position: relative;\n",
       "  font-weight: normal;\n",
       "  right: .2ex;\n",
       "  padding: .5ex;\n",
       "  margin: .5ex;\n",
       "  width: min-content;\n",
       "  min-width: 20ex;\n",
       "  max-width: 50ex;\n",
       "  color: var(--sklearn-color-text);\n",
       "  box-shadow: 2pt 2pt 4pt #999;\n",
       "  /* unfitted */\n",
       "  background: var(--sklearn-color-unfitted-level-0);\n",
       "  border: .5pt solid var(--sklearn-color-unfitted-level-3);\n",
       "}\n",
       "\n",
       ".sk-estimator-doc-link.fitted span {\n",
       "  /* fitted */\n",
       "  background: var(--sklearn-color-fitted-level-0);\n",
       "  border: var(--sklearn-color-fitted-level-3);\n",
       "}\n",
       "\n",
       ".sk-estimator-doc-link:hover span {\n",
       "  display: block;\n",
       "}\n",
       "\n",
       "/* \"?\"-specific style due to the `<a>` HTML tag */\n",
       "\n",
       "#sk-container-id-1 a.estimator_doc_link {\n",
       "  float: right;\n",
       "  font-size: 1rem;\n",
       "  line-height: 1em;\n",
       "  font-family: monospace;\n",
       "  background-color: var(--sklearn-color-background);\n",
       "  border-radius: 1rem;\n",
       "  height: 1rem;\n",
       "  width: 1rem;\n",
       "  text-decoration: none;\n",
       "  /* unfitted */\n",
       "  color: var(--sklearn-color-unfitted-level-1);\n",
       "  border: var(--sklearn-color-unfitted-level-1) 1pt solid;\n",
       "}\n",
       "\n",
       "#sk-container-id-1 a.estimator_doc_link.fitted {\n",
       "  /* fitted */\n",
       "  border: var(--sklearn-color-fitted-level-1) 1pt solid;\n",
       "  color: var(--sklearn-color-fitted-level-1);\n",
       "}\n",
       "\n",
       "/* On hover */\n",
       "#sk-container-id-1 a.estimator_doc_link:hover {\n",
       "  /* unfitted */\n",
       "  background-color: var(--sklearn-color-unfitted-level-3);\n",
       "  color: var(--sklearn-color-background);\n",
       "  text-decoration: none;\n",
       "}\n",
       "\n",
       "#sk-container-id-1 a.estimator_doc_link.fitted:hover {\n",
       "  /* fitted */\n",
       "  background-color: var(--sklearn-color-fitted-level-3);\n",
       "}\n",
       "</style><div id=\"sk-container-id-1\" class=\"sk-top-container\"><div class=\"sk-text-repr-fallback\"><pre>CountVectorizer()</pre><b>In a Jupyter environment, please rerun this cell to show the HTML representation or trust the notebook. <br />On GitHub, the HTML representation is unable to render, please try loading this page with nbviewer.org.</b></div><div class=\"sk-container\" hidden><div class=\"sk-item\"><div class=\"sk-estimator fitted sk-toggleable\"><input class=\"sk-toggleable__control sk-hidden--visually\" id=\"sk-estimator-id-1\" type=\"checkbox\" checked><label for=\"sk-estimator-id-1\" class=\"sk-toggleable__label fitted sk-toggleable__label-arrow fitted\">&nbsp;&nbsp;CountVectorizer<a class=\"sk-estimator-doc-link fitted\" rel=\"noreferrer\" target=\"_blank\" href=\"https://scikit-learn.org/1.4/modules/generated/sklearn.feature_extraction.text.CountVectorizer.html\">?<span>Documentation for CountVectorizer</span></a><span class=\"sk-estimator-doc-link fitted\">i<span>Fitted</span></span></label><div class=\"sk-toggleable__content fitted\"><pre>CountVectorizer()</pre></div> </div></div></div></div>"
      ],
      "text/plain": [
       "CountVectorizer()"
      ]
     },
     "execution_count": 36,
     "metadata": {},
     "output_type": "execute_result"
    }
   ],
   "source": [
    "bow"
   ]
  },
  {
   "cell_type": "code",
   "execution_count": 37,
   "id": "20028ee3",
   "metadata": {},
   "outputs": [
    {
     "name": "stdout",
     "output_type": "stream",
     "text": [
      "Accuracy Score : 0.6983588002263724\n",
      "\n",
      "              precision    recall  f1-score   support\n",
      "\n",
      "           0       0.70      0.65      0.67      1001\n",
      "           1       0.64      0.73      0.68      1430\n",
      "           2       0.79      0.71      0.75      1103\n",
      "\n",
      "    accuracy                           0.70      3534\n",
      "   macro avg       0.71      0.69      0.70      3534\n",
      "weighted avg       0.71      0.70      0.70      3534\n",
      "\n"
     ]
    }
   ],
   "source": [
    "from sklearn.linear_model import LogisticRegression\n",
    "\n",
    "model = LogisticRegression(max_iter = 1000)\n",
    "model.fit(train_bow, y_train)\n",
    "\n",
    "\n",
    "from sklearn.metrics import classification_report, accuracy_score\n",
    "\n",
    "predict = model.predict(test_bow)\n",
    "print(\"Accuracy Score :\", accuracy_score(y_test, predict), end='\\n\\n')\n",
    "print(classification_report(y_true = y_test, y_pred = predict))"
   ]
  },
  {
   "cell_type": "markdown",
   "id": "86020370",
   "metadata": {},
   "source": [
    "### TF-IDF"
   ]
  },
  {
   "cell_type": "code",
   "execution_count": 38,
   "id": "acb41a2d",
   "metadata": {},
   "outputs": [],
   "source": [
    "from sklearn.feature_extraction.text import TfidfVectorizer\n",
    "td_idf = TfidfVectorizer()\n",
    "\n",
    "\n",
    "train_idf = td_idf.fit_transform(train_data['documents']) \n",
    "test_idf = td_idf.transform(test_data['documents'])"
   ]
  },
  {
   "cell_type": "code",
   "execution_count": 39,
   "id": "21394404",
   "metadata": {},
   "outputs": [
    {
     "data": {
      "text/plain": [
       "(3534, 23436)"
      ]
     },
     "execution_count": 39,
     "metadata": {},
     "output_type": "execute_result"
    }
   ],
   "source": [
    "test_idf.shape"
   ]
  },
  {
   "cell_type": "code",
   "execution_count": 40,
   "id": "906c235d",
   "metadata": {},
   "outputs": [
    {
     "name": "stdout",
     "output_type": "stream",
     "text": [
      "Accuracy Score : 0.7085455574419921\n",
      "\n",
      "              precision    recall  f1-score   support\n",
      "\n",
      "           0       0.73      0.64      0.68      1001\n",
      "           1       0.64      0.76      0.69      1430\n",
      "           2       0.81      0.71      0.76      1103\n",
      "\n",
      "    accuracy                           0.71      3534\n",
      "   macro avg       0.73      0.70      0.71      3534\n",
      "weighted avg       0.72      0.71      0.71      3534\n",
      "\n"
     ]
    }
   ],
   "source": [
    "from sklearn.linear_model import LogisticRegression\n",
    "\n",
    "model = LogisticRegression(max_iter = 1000)\n",
    "model.fit(train_idf, y_train)\n",
    "\n",
    "from sklearn.metrics import classification_report, accuracy_score\n",
    "\n",
    "predict = model.predict(test_idf)\n",
    "print(\"Accuracy Score :\", accuracy_score(y_test, predict), end='\\n\\n')\n",
    "print(classification_report(y_true = y_test, y_pred = predict))"
   ]
  },
  {
   "cell_type": "markdown",
   "id": "2872bd1f",
   "metadata": {},
   "source": [
    "### Continous Bag of words"
   ]
  },
  {
   "cell_type": "code",
   "execution_count": 44,
   "id": "8330d0c9",
   "metadata": {},
   "outputs": [],
   "source": [
    "from gensim.models import Word2Vec\n",
    "g_model = Word2Vec(sentences = train_data['preprocess_2'],vector_size=200,window=5, workers=5, epochs=500)"
   ]
  },
  {
   "cell_type": "code",
   "execution_count": 45,
   "id": "411ad9d2",
   "metadata": {},
   "outputs": [],
   "source": [
    "def in_vocab(word_l):\n",
    "    for word in word_l:\n",
    "        if word not in g_model.wv:\n",
    "            return False\n",
    "    else:\n",
    "        return True\n",
    "\n",
    "train_vec = [g_model.wv[x].sum(axis = 0) if len(x) and in_vocab(x) else np.zeros((200)) for x in train_data['preprocess_2']]\n",
    "test_vec  = [g_model.wv[x].sum(axis = 0) if len(x) and in_vocab(x) else np.zeros((200)) for x in test_data['preprocess_2']]"
   ]
  },
  {
   "cell_type": "code",
   "execution_count": 46,
   "id": "2e37a163",
   "metadata": {},
   "outputs": [
    {
     "name": "stdout",
     "output_type": "stream",
     "text": [
      "Accuracy Score : 0.5118845500848896\n",
      "\n",
      "              precision    recall  f1-score   support\n",
      "\n",
      "           0       0.66      0.26      0.37      1001\n",
      "           1       0.46      0.86      0.60      1430\n",
      "           2       0.72      0.29      0.41      1103\n",
      "\n",
      "    accuracy                           0.51      3534\n",
      "   macro avg       0.61      0.47      0.46      3534\n",
      "weighted avg       0.60      0.51      0.48      3534\n",
      "\n"
     ]
    }
   ],
   "source": [
    "from sklearn.linear_model import LogisticRegression\n",
    "\n",
    "model = LogisticRegression(max_iter = 1000)\n",
    "model.fit(train_vec, y_train)\n",
    "\n",
    "from sklearn.metrics import classification_report, accuracy_score\n",
    "\n",
    "predict = model.predict(test_vec)\n",
    "print(\"Accuracy Score :\", accuracy_score(y_test, predict), end='\\n\\n')\n",
    "print(classification_report(y_true = y_test, y_pred = predict))"
   ]
  },
  {
   "cell_type": "markdown",
   "id": "bd50fd85",
   "metadata": {},
   "source": [
    "### Skipgram"
   ]
  },
  {
   "cell_type": "code",
   "execution_count": 47,
   "id": "11e4b9f6",
   "metadata": {},
   "outputs": [],
   "source": [
    "from gensim.models import Word2Vec\n",
    "\n",
    "g_model = Word2Vec(sentences=train_data['preprocess_2'], vector_size=200, window=5, workers=5, sg=1, epochs=500)\n"
   ]
  },
  {
   "cell_type": "code",
   "execution_count": 48,
   "id": "4cdba34f",
   "metadata": {},
   "outputs": [],
   "source": [
    "def in_vocab(word_l):\n",
    "    for word in word_l:\n",
    "        if word not in g_model.wv:\n",
    "            return False\n",
    "    else:\n",
    "        return True\n",
    "\n",
    "train_vec = [g_model.wv[x].sum(axis = 0) if len(x) and in_vocab(x) else np.zeros((200)) for x in train_data[\"preprocess_2\"]]\n",
    "test_vec  = [g_model.wv[x].sum(axis = 0) if len(x) and in_vocab(x) else np.zeros((200)) for x in test_data[\"preprocess_2\"]]\n"
   ]
  },
  {
   "cell_type": "code",
   "execution_count": 49,
   "id": "7244235c",
   "metadata": {},
   "outputs": [
    {
     "name": "stdout",
     "output_type": "stream",
     "text": [
      "Accuracy Score : 0.512450481041313\n",
      "\n",
      "              precision    recall  f1-score   support\n",
      "\n",
      "           0       0.65      0.26      0.37      1001\n",
      "           1       0.46      0.86      0.60      1430\n",
      "           2       0.72      0.29      0.41      1103\n",
      "\n",
      "    accuracy                           0.51      3534\n",
      "   macro avg       0.61      0.47      0.46      3534\n",
      "weighted avg       0.59      0.51      0.48      3534\n",
      "\n"
     ]
    }
   ],
   "source": [
    "from sklearn.linear_model import LogisticRegression\n",
    "\n",
    "model = LogisticRegression(max_iter = 1000)\n",
    "model.fit(train_vec, y_train)\n",
    "\n",
    "from sklearn.metrics import classification_report, accuracy_score\n",
    "\n",
    "predict = model.predict(test_vec)\n",
    "print(\"Accuracy Score :\", accuracy_score(y_test, predict), end='\\n\\n')\n",
    "print(classification_report(y_true = y_test, y_pred = predict))"
   ]
  },
  {
   "cell_type": "markdown",
   "id": "8b040cf0",
   "metadata": {},
   "source": [
    "### WORD2VEC using GloVe of twitter"
   ]
  },
  {
   "cell_type": "code",
   "execution_count": 50,
   "id": "09657d86",
   "metadata": {},
   "outputs": [
    {
     "name": "stdout",
     "output_type": "stream",
     "text": [
      "[=-------------------------------------------------] 3.1% 23.4/758.5MB downloaded"
     ]
    },
    {
     "name": "stderr",
     "output_type": "stream",
     "text": [
      "IOPub message rate exceeded.\n",
      "The notebook server will temporarily stop sending output\n",
      "to the client in order to avoid crashing it.\n",
      "To change this limit, set the config variable\n",
      "`--NotebookApp.iopub_msg_rate_limit`.\n",
      "\n",
      "Current values:\n",
      "NotebookApp.iopub_msg_rate_limit=1000.0 (msgs/sec)\n",
      "NotebookApp.rate_limit_window=3.0 (secs)\n",
      "\n"
     ]
    },
    {
     "name": "stdout",
     "output_type": "stream",
     "text": [
      "[====----------------------------------------------] 8.6% 64.9/758.5MB downloaded"
     ]
    },
    {
     "name": "stderr",
     "output_type": "stream",
     "text": [
      "IOPub message rate exceeded.\n",
      "The notebook server will temporarily stop sending output\n",
      "to the client in order to avoid crashing it.\n",
      "To change this limit, set the config variable\n",
      "`--NotebookApp.iopub_msg_rate_limit`.\n",
      "\n",
      "Current values:\n",
      "NotebookApp.iopub_msg_rate_limit=1000.0 (msgs/sec)\n",
      "NotebookApp.rate_limit_window=3.0 (secs)\n",
      "\n"
     ]
    },
    {
     "name": "stdout",
     "output_type": "stream",
     "text": [
      "[======--------------------------------------------] 13.6% 103.4/758.5MB downloaded"
     ]
    },
    {
     "name": "stderr",
     "output_type": "stream",
     "text": [
      "IOPub message rate exceeded.\n",
      "The notebook server will temporarily stop sending output\n",
      "to the client in order to avoid crashing it.\n",
      "To change this limit, set the config variable\n",
      "`--NotebookApp.iopub_msg_rate_limit`.\n",
      "\n",
      "Current values:\n",
      "NotebookApp.iopub_msg_rate_limit=1000.0 (msgs/sec)\n",
      "NotebookApp.rate_limit_window=3.0 (secs)\n",
      "\n"
     ]
    },
    {
     "name": "stdout",
     "output_type": "stream",
     "text": [
      "[=========-----------------------------------------] 18.9% 143.4/758.5MB downloaded"
     ]
    },
    {
     "name": "stderr",
     "output_type": "stream",
     "text": [
      "IOPub message rate exceeded.\n",
      "The notebook server will temporarily stop sending output\n",
      "to the client in order to avoid crashing it.\n",
      "To change this limit, set the config variable\n",
      "`--NotebookApp.iopub_msg_rate_limit`.\n",
      "\n",
      "Current values:\n",
      "NotebookApp.iopub_msg_rate_limit=1000.0 (msgs/sec)\n",
      "NotebookApp.rate_limit_window=3.0 (secs)\n",
      "\n"
     ]
    },
    {
     "name": "stdout",
     "output_type": "stream",
     "text": [
      "[============--------------------------------------] 24.8% 188.0/758.5MB downloaded"
     ]
    },
    {
     "name": "stderr",
     "output_type": "stream",
     "text": [
      "IOPub message rate exceeded.\n",
      "The notebook server will temporarily stop sending output\n",
      "to the client in order to avoid crashing it.\n",
      "To change this limit, set the config variable\n",
      "`--NotebookApp.iopub_msg_rate_limit`.\n",
      "\n",
      "Current values:\n",
      "NotebookApp.iopub_msg_rate_limit=1000.0 (msgs/sec)\n",
      "NotebookApp.rate_limit_window=3.0 (secs)\n",
      "\n"
     ]
    },
    {
     "name": "stdout",
     "output_type": "stream",
     "text": [
      "[===============-----------------------------------] 30.6% 232.4/758.5MB downloaded"
     ]
    },
    {
     "name": "stderr",
     "output_type": "stream",
     "text": [
      "IOPub message rate exceeded.\n",
      "The notebook server will temporarily stop sending output\n",
      "to the client in order to avoid crashing it.\n",
      "To change this limit, set the config variable\n",
      "`--NotebookApp.iopub_msg_rate_limit`.\n",
      "\n",
      "Current values:\n",
      "NotebookApp.iopub_msg_rate_limit=1000.0 (msgs/sec)\n",
      "NotebookApp.rate_limit_window=3.0 (secs)\n",
      "\n"
     ]
    },
    {
     "name": "stdout",
     "output_type": "stream",
     "text": [
      "[=================---------------------------------] 35.9% 272.2/758.5MB downloaded"
     ]
    },
    {
     "name": "stderr",
     "output_type": "stream",
     "text": [
      "IOPub message rate exceeded.\n",
      "The notebook server will temporarily stop sending output\n",
      "to the client in order to avoid crashing it.\n",
      "To change this limit, set the config variable\n",
      "`--NotebookApp.iopub_msg_rate_limit`.\n",
      "\n",
      "Current values:\n",
      "NotebookApp.iopub_msg_rate_limit=1000.0 (msgs/sec)\n",
      "NotebookApp.rate_limit_window=3.0 (secs)\n",
      "\n"
     ]
    },
    {
     "name": "stdout",
     "output_type": "stream",
     "text": [
      "[=====================-----------------------------] 43.0% 325.8/758.5MB downloaded"
     ]
    },
    {
     "name": "stderr",
     "output_type": "stream",
     "text": [
      "IOPub message rate exceeded.\n",
      "The notebook server will temporarily stop sending output\n",
      "to the client in order to avoid crashing it.\n",
      "To change this limit, set the config variable\n",
      "`--NotebookApp.iopub_msg_rate_limit`.\n",
      "\n",
      "Current values:\n",
      "NotebookApp.iopub_msg_rate_limit=1000.0 (msgs/sec)\n",
      "NotebookApp.rate_limit_window=3.0 (secs)\n",
      "\n"
     ]
    },
    {
     "name": "stdout",
     "output_type": "stream",
     "text": [
      "[========================--------------------------] 49.5% 375.5/758.5MB downloaded"
     ]
    },
    {
     "name": "stderr",
     "output_type": "stream",
     "text": [
      "IOPub message rate exceeded.\n",
      "The notebook server will temporarily stop sending output\n",
      "to the client in order to avoid crashing it.\n",
      "To change this limit, set the config variable\n",
      "`--NotebookApp.iopub_msg_rate_limit`.\n",
      "\n",
      "Current values:\n",
      "NotebookApp.iopub_msg_rate_limit=1000.0 (msgs/sec)\n",
      "NotebookApp.rate_limit_window=3.0 (secs)\n",
      "\n"
     ]
    },
    {
     "name": "stdout",
     "output_type": "stream",
     "text": [
      "[============================----------------------] 56.3% 426.8/758.5MB downloaded"
     ]
    },
    {
     "name": "stderr",
     "output_type": "stream",
     "text": [
      "IOPub message rate exceeded.\n",
      "The notebook server will temporarily stop sending output\n",
      "to the client in order to avoid crashing it.\n",
      "To change this limit, set the config variable\n",
      "`--NotebookApp.iopub_msg_rate_limit`.\n",
      "\n",
      "Current values:\n",
      "NotebookApp.iopub_msg_rate_limit=1000.0 (msgs/sec)\n",
      "NotebookApp.rate_limit_window=3.0 (secs)\n",
      "\n"
     ]
    },
    {
     "name": "stdout",
     "output_type": "stream",
     "text": [
      "[================================------------------] 64.3% 487.4/758.5MB downloaded"
     ]
    },
    {
     "name": "stderr",
     "output_type": "stream",
     "text": [
      "IOPub message rate exceeded.\n",
      "The notebook server will temporarily stop sending output\n",
      "to the client in order to avoid crashing it.\n",
      "To change this limit, set the config variable\n",
      "`--NotebookApp.iopub_msg_rate_limit`.\n",
      "\n",
      "Current values:\n",
      "NotebookApp.iopub_msg_rate_limit=1000.0 (msgs/sec)\n",
      "NotebookApp.rate_limit_window=3.0 (secs)\n",
      "\n"
     ]
    },
    {
     "name": "stdout",
     "output_type": "stream",
     "text": [
      "[===================================---------------] 70.0% 531.2/758.5MB downloaded"
     ]
    },
    {
     "name": "stderr",
     "output_type": "stream",
     "text": [
      "IOPub message rate exceeded.\n",
      "The notebook server will temporarily stop sending output\n",
      "to the client in order to avoid crashing it.\n",
      "To change this limit, set the config variable\n",
      "`--NotebookApp.iopub_msg_rate_limit`.\n",
      "\n",
      "Current values:\n",
      "NotebookApp.iopub_msg_rate_limit=1000.0 (msgs/sec)\n",
      "NotebookApp.rate_limit_window=3.0 (secs)\n",
      "\n"
     ]
    },
    {
     "name": "stdout",
     "output_type": "stream",
     "text": [
      "[=======================================-----------] 78.1% 592.4/758.5MB downloaded"
     ]
    },
    {
     "name": "stderr",
     "output_type": "stream",
     "text": [
      "IOPub message rate exceeded.\n",
      "The notebook server will temporarily stop sending output\n",
      "to the client in order to avoid crashing it.\n",
      "To change this limit, set the config variable\n",
      "`--NotebookApp.iopub_msg_rate_limit`.\n",
      "\n",
      "Current values:\n",
      "NotebookApp.iopub_msg_rate_limit=1000.0 (msgs/sec)\n",
      "NotebookApp.rate_limit_window=3.0 (secs)\n",
      "\n"
     ]
    },
    {
     "name": "stdout",
     "output_type": "stream",
     "text": [
      "[==========================================--------] 85.4% 647.6/758.5MB downloaded"
     ]
    },
    {
     "name": "stderr",
     "output_type": "stream",
     "text": [
      "IOPub message rate exceeded.\n",
      "The notebook server will temporarily stop sending output\n",
      "to the client in order to avoid crashing it.\n",
      "To change this limit, set the config variable\n",
      "`--NotebookApp.iopub_msg_rate_limit`.\n",
      "\n",
      "Current values:\n",
      "NotebookApp.iopub_msg_rate_limit=1000.0 (msgs/sec)\n",
      "NotebookApp.rate_limit_window=3.0 (secs)\n",
      "\n"
     ]
    },
    {
     "name": "stdout",
     "output_type": "stream",
     "text": [
      "[==============================================----] 93.3% 707.3/758.5MB downloaded"
     ]
    },
    {
     "name": "stderr",
     "output_type": "stream",
     "text": [
      "IOPub message rate exceeded.\n",
      "The notebook server will temporarily stop sending output\n",
      "to the client in order to avoid crashing it.\n",
      "To change this limit, set the config variable\n",
      "`--NotebookApp.iopub_msg_rate_limit`.\n",
      "\n",
      "Current values:\n",
      "NotebookApp.iopub_msg_rate_limit=1000.0 (msgs/sec)\n",
      "NotebookApp.rate_limit_window=3.0 (secs)\n",
      "\n"
     ]
    },
    {
     "name": "stdout",
     "output_type": "stream",
     "text": [
      "[=================================================-] 99.7% 756.6/758.5MB downloaded"
     ]
    },
    {
     "name": "stderr",
     "output_type": "stream",
     "text": [
      "IOPub message rate exceeded.\n",
      "The notebook server will temporarily stop sending output\n",
      "to the client in order to avoid crashing it.\n",
      "To change this limit, set the config variable\n",
      "`--NotebookApp.iopub_msg_rate_limit`.\n",
      "\n",
      "Current values:\n",
      "NotebookApp.iopub_msg_rate_limit=1000.0 (msgs/sec)\n",
      "NotebookApp.rate_limit_window=3.0 (secs)\n",
      "\n"
     ]
    }
   ],
   "source": [
    "import gensim.downloader as api\n",
    "\n",
    "model = api.load(\"glove-twitter-200\")\n",
    "\n",
    "shape_n = 200\n",
    "\n",
    "def in_vocab(word_l):\n",
    "    for word in word_l:\n",
    "        if word not in model:\n",
    "            return False\n",
    "    else:\n",
    "        return True\n",
    "\n",
    "train_vec = [model[x].sum(axis = 0) if len(x) and in_vocab(x) else np.zeros((shape_n)) for x in train_data['preprocess_2']]\n",
    "test_vec  = [model[x].sum(axis = 0) if len(x) and in_vocab(x) else np.zeros((shape_n)) for x in test_data['preprocess_2']]\n"
   ]
  },
  {
   "cell_type": "code",
   "execution_count": 51,
   "id": "ec198d0e",
   "metadata": {},
   "outputs": [
    {
     "name": "stdout",
     "output_type": "stream",
     "text": [
      "Accuracy Score : 0.6428975664968873\n",
      "\n",
      "              precision    recall  f1-score   support\n",
      "\n",
      "           0       0.71      0.56      0.62      1001\n",
      "           1       0.56      0.73      0.64      1430\n",
      "           2       0.74      0.60      0.67      1103\n",
      "\n",
      "    accuracy                           0.64      3534\n",
      "   macro avg       0.67      0.63      0.64      3534\n",
      "weighted avg       0.66      0.64      0.64      3534\n",
      "\n"
     ]
    }
   ],
   "source": [
    "from sklearn.linear_model import LogisticRegression\n",
    "\n",
    "model = LogisticRegression(max_iter = 1000)\n",
    "model.fit(train_vec, y_train)\n",
    "\n",
    "from sklearn.metrics import classification_report, accuracy_score\n",
    "\n",
    "predict = model.predict(test_vec)\n",
    "print(\"Accuracy Score :\", accuracy_score(y_test, predict), end='\\n\\n')\n",
    "print(classification_report(y_true = y_test, y_pred = predict))"
   ]
  },
  {
   "cell_type": "markdown",
   "id": "5c23fc44",
   "metadata": {},
   "source": [
    "### Classification using TF-IDF"
   ]
  },
  {
   "cell_type": "code",
   "execution_count": 52,
   "id": "0f4f7b34",
   "metadata": {},
   "outputs": [],
   "source": [
    "text = \"\"\"What is not to like about this product.\n",
    "Not bad.\n",
    "Not an issue.\n",
    "Not buggy.\n",
    "Not happy.\n",
    "Not user-friendly.\n",
    "Not good.\n",
    "Is it any good?\n",
    "I do not dislike horror movies. \n",
    "Disliking horror movies is not uncommon. \n",
    "Sometimes I really hate the show. \n",
    "I love having to wait two months for the next series to come out! \n",
    "The final episode was surprising with a terrible twist at the end.\n",
    "The film was easy to watch but I would not recommend it to my friends. \n",
    "I LOL’d at the end of the cake scene.\"\"\"\n",
    "\n",
    "input_text = text.split(\"\\n\")\n",
    "input_text = [\" \".join(preprocessing_2(string)) for string in input_text]"
   ]
  },
  {
   "cell_type": "code",
   "execution_count": 53,
   "id": "929d6a88",
   "metadata": {},
   "outputs": [],
   "source": [
    "from sklearn.feature_extraction.text import TfidfVectorizer\n",
    "\n",
    "tf_idf = TfidfVectorizer()\n",
    "\n",
    "train_idf = tf_idf.fit_transform(train_data[\"documents\"])\n",
    "pred_idf = tf_idf.transform(input_text)"
   ]
  },
  {
   "cell_type": "code",
   "execution_count": 54,
   "id": "d612c2df",
   "metadata": {},
   "outputs": [],
   "source": [
    "from sklearn.linear_model import LogisticRegression\n",
    "\n",
    "model = LogisticRegression(max_iter = 1000)\n",
    "model.fit(train_idf, y_train)\n",
    "\n",
    "predict = model.predict(pred_idf)\n",
    "predict = le.inverse_transform(predict)"
   ]
  },
  {
   "cell_type": "code",
   "execution_count": 55,
   "id": "c09bb42b",
   "metadata": {},
   "outputs": [
    {
     "name": "stdout",
     "output_type": "stream",
     "text": [
      "What is not to like about this product.  :  negative\n",
      "Not bad.  :  negative\n",
      "Not an issue.  :  negative\n",
      "Not buggy.  :  neutral\n",
      "Not happy.  :  positive\n",
      "Not user-friendly.  :  neutral\n",
      "Not good.  :  positive\n",
      "Is it any good?  :  positive\n",
      "I do not dislike horror movies.   :  negative\n",
      "Disliking horror movies is not uncommon.   :  negative\n",
      "Sometimes I really hate the show.   :  negative\n",
      "I love having to wait two months for the next series to come out!   :  positive\n",
      "The final episode was surprising with a terrible twist at the end.  :  neutral\n",
      "The film was easy to watch but I would not recommend it to my friends.   :  neutral\n",
      "I LOL’d at the end of the cake scene.  :  neutral\n"
     ]
    }
   ],
   "source": [
    "for index, text in enumerate(text.split(\"\\n\")):\n",
    "    print(text, \" : \", predict[index])"
   ]
  },
  {
   "cell_type": "code",
   "execution_count": 67,
   "id": "3ce27b6e",
   "metadata": {},
   "outputs": [
    {
     "name": "stdout",
     "output_type": "stream",
     "text": [
      "Requirement already satisfied: nbconvert in c:\\users\\keerthana\\miniconda3\\lib\\site-packages (6.5.4)\n",
      "Requirement already satisfied: lxml in c:\\users\\keerthana\\miniconda3\\lib\\site-packages (from nbconvert) (4.9.1)\n",
      "Requirement already satisfied: beautifulsoup4 in c:\\users\\keerthana\\miniconda3\\lib\\site-packages (from nbconvert) (4.11.1)\n",
      "Requirement already satisfied: bleach in c:\\users\\keerthana\\miniconda3\\lib\\site-packages (from nbconvert) (4.1.0)\n",
      "Requirement already satisfied: defusedxml in c:\\users\\keerthana\\miniconda3\\lib\\site-packages (from nbconvert) (0.7.1)\n",
      "Requirement already satisfied: entrypoints>=0.2.2 in c:\\users\\keerthana\\miniconda3\\lib\\site-packages (from nbconvert) (0.4)\n",
      "Requirement already satisfied: jinja2>=3.0 in c:\\users\\keerthana\\miniconda3\\lib\\site-packages (from nbconvert) (3.1.3)\n",
      "Requirement already satisfied: jupyter-core>=4.7 in c:\\users\\keerthana\\miniconda3\\lib\\site-packages (from nbconvert) (5.2.0)\n",
      "Requirement already satisfied: jupyterlab-pygments in c:\\users\\keerthana\\miniconda3\\lib\\site-packages (from nbconvert) (0.1.2)\n",
      "Requirement already satisfied: MarkupSafe>=2.0 in c:\\users\\keerthana\\miniconda3\\lib\\site-packages (from nbconvert) (2.1.4)\n",
      "Requirement already satisfied: mistune<2,>=0.8.1 in c:\\users\\keerthana\\miniconda3\\lib\\site-packages (from nbconvert) (0.8.4)\n",
      "Requirement already satisfied: nbclient>=0.5.0 in c:\\users\\keerthana\\miniconda3\\lib\\site-packages (from nbconvert) (0.5.13)\n",
      "Requirement already satisfied: nbformat>=5.1 in c:\\users\\keerthana\\miniconda3\\lib\\site-packages (from nbconvert) (5.7.0)\n",
      "Requirement already satisfied: packaging in c:\\users\\keerthana\\miniconda3\\lib\\site-packages (from nbconvert) (23.0)\n",
      "Requirement already satisfied: pandocfilters>=1.4.1 in c:\\users\\keerthana\\miniconda3\\lib\\site-packages (from nbconvert) (1.5.0)\n",
      "Requirement already satisfied: pygments>=2.4.1 in c:\\users\\keerthana\\miniconda3\\lib\\site-packages (from nbconvert) (2.17.2)\n",
      "Requirement already satisfied: tinycss2 in c:\\users\\keerthana\\miniconda3\\lib\\site-packages (from nbconvert) (1.2.1)\n",
      "Requirement already satisfied: traitlets>=5.0 in c:\\users\\keerthana\\miniconda3\\lib\\site-packages (from nbconvert) (5.7.1)\n",
      "Requirement already satisfied: platformdirs>=2.5 in c:\\users\\keerthana\\miniconda3\\lib\\site-packages (from jupyter-core>=4.7->nbconvert) (2.5.2)\n",
      "Requirement already satisfied: pywin32>=1.0 in c:\\users\\keerthana\\miniconda3\\lib\\site-packages (from jupyter-core>=4.7->nbconvert) (305.1)\n",
      "Requirement already satisfied: jupyter-client>=6.1.5 in c:\\users\\keerthana\\miniconda3\\lib\\site-packages (from nbclient>=0.5.0->nbconvert) (7.4.9)\n",
      "Requirement already satisfied: nest-asyncio in c:\\users\\keerthana\\miniconda3\\lib\\site-packages (from nbclient>=0.5.0->nbconvert) (1.5.6)\n",
      "Requirement already satisfied: fastjsonschema in c:\\users\\keerthana\\miniconda3\\lib\\site-packages (from nbformat>=5.1->nbconvert) (2.16.2)\n",
      "Requirement already satisfied: jsonschema>=2.6 in c:\\users\\keerthana\\miniconda3\\lib\\site-packages (from nbformat>=5.1->nbconvert) (4.17.3)\n",
      "Requirement already satisfied: soupsieve>1.2 in c:\\users\\keerthana\\miniconda3\\lib\\site-packages (from beautifulsoup4->nbconvert) (2.3.2.post1)\n",
      "Requirement already satisfied: six>=1.9.0 in c:\\users\\keerthana\\miniconda3\\lib\\site-packages (from bleach->nbconvert) (1.16.0)\n",
      "Requirement already satisfied: webencodings in c:\\users\\keerthana\\miniconda3\\lib\\site-packages (from bleach->nbconvert) (0.5.1)\n",
      "Requirement already satisfied: attrs>=17.4.0 in c:\\users\\keerthana\\miniconda3\\lib\\site-packages (from jsonschema>=2.6->nbformat>=5.1->nbconvert) (22.1.0)\n",
      "Requirement already satisfied: pyrsistent!=0.17.0,!=0.17.1,!=0.17.2,>=0.14.0 in c:\\users\\keerthana\\miniconda3\\lib\\site-packages (from jsonschema>=2.6->nbformat>=5.1->nbconvert) (0.18.0)\n",
      "Requirement already satisfied: python-dateutil>=2.8.2 in c:\\users\\keerthana\\miniconda3\\lib\\site-packages (from jupyter-client>=6.1.5->nbclient>=0.5.0->nbconvert) (2.8.2)\n",
      "Requirement already satisfied: pyzmq>=23.0 in c:\\users\\keerthana\\miniconda3\\lib\\site-packages (from jupyter-client>=6.1.5->nbclient>=0.5.0->nbconvert) (23.2.0)\n",
      "Requirement already satisfied: tornado>=6.2 in c:\\users\\keerthana\\miniconda3\\lib\\site-packages (from jupyter-client>=6.1.5->nbclient>=0.5.0->nbconvert) (6.2)\n",
      "Note: you may need to restart the kernel to use updated packages.\n"
     ]
    },
    {
     "name": "stderr",
     "output_type": "stream",
     "text": [
      "WARNING: Error parsing requirements for torch: [Errno 2] No such file or directory: 'c:\\\\users\\\\keerthana\\\\miniconda3\\\\lib\\\\site-packages\\\\torch-2.0.0.dist-info\\\\METADATA'\n"
     ]
    }
   ],
   "source": [
    "#pip install nbconvert"
   ]
  },
  {
   "cell_type": "code",
   "execution_count": 43,
   "id": "30b85cc0",
   "metadata": {},
   "outputs": [
    {
     "name": "stdout",
     "output_type": "stream",
     "text": [
      "Collecting gensim\n",
      "  Downloading gensim-4.3.2-cp39-cp39-win_amd64.whl.metadata (8.5 kB)\n",
      "Requirement already satisfied: numpy>=1.18.5 in c:\\users\\vinod\\miniconda3\\envs\\speed\\lib\\site-packages (from gensim) (1.26.2)\n",
      "Requirement already satisfied: scipy>=1.7.0 in c:\\users\\vinod\\miniconda3\\envs\\speed\\lib\\site-packages (from gensim) (1.11.4)\n",
      "Collecting smart-open>=1.8.1 (from gensim)\n",
      "  Downloading smart_open-6.4.0-py3-none-any.whl.metadata (21 kB)\n",
      "Downloading gensim-4.3.2-cp39-cp39-win_amd64.whl (24.0 MB)\n",
      "   ---------------------------------------- 0.0/24.0 MB ? eta -:--:--\n",
      "   - -------------------------------------- 0.7/24.0 MB 20.8 MB/s eta 0:00:02\n",
      "   ----- ---------------------------------- 3.2/24.0 MB 33.4 MB/s eta 0:00:01\n",
      "   ------- -------------------------------- 4.6/24.0 MB 32.6 MB/s eta 0:00:01\n",
      "   -------- ------------------------------- 5.1/24.0 MB 32.8 MB/s eta 0:00:01\n",
      "   ------------ --------------------------- 7.5/24.0 MB 31.9 MB/s eta 0:00:01\n",
      "   -------------- ------------------------- 8.8/24.0 MB 31.4 MB/s eta 0:00:01\n",
      "   ------------------ --------------------- 11.2/24.0 MB 36.4 MB/s eta 0:00:01\n",
      "   ------------------- -------------------- 11.4/24.0 MB 36.4 MB/s eta 0:00:01\n",
      "   ------------------- -------------------- 11.4/24.0 MB 36.4 MB/s eta 0:00:01\n",
      "   ------------------- -------------------- 11.6/24.0 MB 27.3 MB/s eta 0:00:01\n",
      "   -------------------- ------------------- 12.2/24.0 MB 24.2 MB/s eta 0:00:01\n",
      "   --------------------- ------------------ 12.9/24.0 MB 23.4 MB/s eta 0:00:01\n",
      "   --------------------- ------------------ 12.9/24.0 MB 23.4 MB/s eta 0:00:01\n",
      "   --------------------- ------------------ 12.9/24.0 MB 23.4 MB/s eta 0:00:01\n",
      "   ---------------------- ----------------- 13.3/24.0 MB 17.7 MB/s eta 0:00:01\n",
      "   ---------------------- ----------------- 13.5/24.0 MB 16.4 MB/s eta 0:00:01\n",
      "   ---------------------- ----------------- 13.7/24.0 MB 15.6 MB/s eta 0:00:01\n",
      "   ----------------------- ---------------- 13.9/24.0 MB 14.6 MB/s eta 0:00:01\n",
      "   ----------------------- ---------------- 14.0/24.0 MB 14.2 MB/s eta 0:00:01\n",
      "   ----------------------- ---------------- 14.2/24.0 MB 12.8 MB/s eta 0:00:01\n",
      "   ------------------------ --------------- 14.5/24.0 MB 12.4 MB/s eta 0:00:01\n",
      "   ------------------------ --------------- 14.7/24.0 MB 11.7 MB/s eta 0:00:01\n",
      "   ------------------------ --------------- 14.8/24.0 MB 11.3 MB/s eta 0:00:01\n",
      "   ------------------------- -------------- 15.3/24.0 MB 10.7 MB/s eta 0:00:01\n",
      "   -------------------------- ------------- 15.8/24.0 MB 10.7 MB/s eta 0:00:01\n",
      "   -------------------------- ------------- 15.8/24.0 MB 10.7 MB/s eta 0:00:01\n",
      "   -------------------------- ------------- 15.9/24.0 MB 9.8 MB/s eta 0:00:01\n",
      "   -------------------------- ------------- 16.1/24.0 MB 9.4 MB/s eta 0:00:01\n",
      "   --------------------------- ------------ 16.4/24.0 MB 9.1 MB/s eta 0:00:01\n",
      "   --------------------------- ------------ 16.6/24.0 MB 8.8 MB/s eta 0:00:01\n",
      "   --------------------------- ------------ 16.7/24.0 MB 8.4 MB/s eta 0:00:01\n",
      "   ---------------------------- ----------- 16.8/24.0 MB 8.1 MB/s eta 0:00:01\n",
      "   ----------------------------- ---------- 17.5/24.0 MB 7.9 MB/s eta 0:00:01\n",
      "   ----------------------------- ---------- 17.9/24.0 MB 7.8 MB/s eta 0:00:01\n",
      "   ----------------------------- ---------- 17.9/24.0 MB 7.8 MB/s eta 0:00:01\n",
      "   ------------------------------ --------- 18.0/24.0 MB 7.1 MB/s eta 0:00:01\n",
      "   ------------------------------ --------- 18.5/24.0 MB 7.0 MB/s eta 0:00:01\n",
      "   ------------------------------- -------- 19.2/24.0 MB 7.0 MB/s eta 0:00:01\n",
      "   ------------------------------- -------- 19.2/24.0 MB 7.0 MB/s eta 0:00:01\n",
      "   ------------------------------- -------- 19.2/24.0 MB 7.0 MB/s eta 0:00:01\n",
      "   -------------------------------- ------- 19.5/24.0 MB 6.3 MB/s eta 0:00:01\n",
      "   --------------------------------- ------ 20.3/24.0 MB 6.2 MB/s eta 0:00:01\n",
      "   ---------------------------------- ----- 20.4/24.0 MB 6.2 MB/s eta 0:00:01\n",
      "   ---------------------------------- ----- 20.4/24.0 MB 6.2 MB/s eta 0:00:01\n",
      "   ---------------------------------- ----- 20.6/24.0 MB 5.7 MB/s eta 0:00:01\n",
      "   ----------------------------------- ---- 21.3/24.0 MB 5.6 MB/s eta 0:00:01\n",
      "   ------------------------------------ --- 22.1/24.0 MB 6.1 MB/s eta 0:00:01\n",
      "   ------------------------------------ --- 22.1/24.0 MB 6.1 MB/s eta 0:00:01\n",
      "   ------------------------------------ --- 22.1/24.0 MB 6.1 MB/s eta 0:00:01\n",
      "   ------------------------------------- -- 22.3/24.0 MB 5.5 MB/s eta 0:00:01\n",
      "   -------------------------------------- - 23.1/24.0 MB 5.5 MB/s eta 0:00:01\n",
      "   -------------------------------------- - 23.1/24.0 MB 5.5 MB/s eta 0:00:01\n",
      "   -------------------------------------- - 23.1/24.0 MB 5.5 MB/s eta 0:00:01\n",
      "   -------------------------------------- - 23.4/24.0 MB 5.5 MB/s eta 0:00:01\n",
      "   ---------------------------------------  24.0/24.0 MB 6.0 MB/s eta 0:00:01\n",
      "   ---------------------------------------  24.0/24.0 MB 6.0 MB/s eta 0:00:01\n",
      "   ---------------------------------------- 24.0/24.0 MB 5.7 MB/s eta 0:00:00\n",
      "Downloading smart_open-6.4.0-py3-none-any.whl (57 kB)\n",
      "   ---------------------------------------- 0.0/57.0 kB ? eta -:--:--\n",
      "   ---------------------------------------- 57.0/57.0 kB 2.9 MB/s eta 0:00:00\n",
      "Installing collected packages: smart-open, gensim\n",
      "Successfully installed gensim-4.3.2 smart-open-6.4.0\n",
      "Note: you may need to restart the kernel to use updated packages.\n"
     ]
    }
   ],
   "source": [
    "#pip install -U gensim"
   ]
  },
  {
   "cell_type": "code",
   "execution_count": null,
   "id": "3eddcc03",
   "metadata": {},
   "outputs": [],
   "source": []
  }
 ],
 "metadata": {
  "kernelspec": {
   "display_name": "Python 3.9 (speed)",
   "language": "python",
   "name": "speed"
  },
  "language_info": {
   "codemirror_mode": {
    "name": "ipython",
    "version": 3
   },
   "file_extension": ".py",
   "mimetype": "text/x-python",
   "name": "python",
   "nbconvert_exporter": "python",
   "pygments_lexer": "ipython3",
   "version": "3.9.18"
  }
 },
 "nbformat": 4,
 "nbformat_minor": 5
}
