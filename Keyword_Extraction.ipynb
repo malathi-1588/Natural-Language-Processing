{
 "cells": [
  {
   "cell_type": "code",
   "execution_count": 8,
   "id": "b164bcbc",
   "metadata": {},
   "outputs": [],
   "source": [
    "from rake_nltk import Rake"
   ]
  },
  {
   "cell_type": "code",
   "execution_count": 9,
   "id": "ca4c8a6e",
   "metadata": {},
   "outputs": [],
   "source": [
    "def rake_top_k(text, k=10):\n",
    "    r= Rake()\n",
    "    r.extract_keywords_from_text(text)\n",
    "    result = r.get_ranked_phrases()[:k]\n",
    "    return result"
   ]
  },
  {
   "cell_type": "code",
   "execution_count": 10,
   "id": "114b39ee",
   "metadata": {},
   "outputs": [
    {
     "data": {
      "text/plain": [
       "['reflect partial matches',\n",
       " 'capturing partial matches',\n",
       " 'perfect match',\n",
       " 'machine learning',\n",
       " 'keyword extractors',\n",
       " 'f1 score',\n",
       " 'extracted segment',\n",
       " 'correct prediction',\n",
       " 'standard metrics',\n",
       " 'metrics capable',\n",
       " 'metrics',\n",
       " '’',\n",
       " 'use',\n",
       " 'tag',\n",
       " 'rouge',\n",
       " 'recall',\n",
       " 'precision',\n",
       " 'performance',\n",
       " 'however',\n",
       " 'fortunately']"
      ]
     },
     "execution_count": 10,
     "metadata": {},
     "output_type": "execute_result"
    }
   ],
   "source": [
    "text = \"When it comes to evaluating the performance of keyword extractors, you can use some of the standard metrics in machine learning: accuracy, precision, recall, and F1 score. However, these metrics don’t reflect partial matches; they only consider the perfect match between an extracted segment and the correct prediction for that tag.Fortunately, there are some other metrics capable of capturing partial matches. An example of this is ROUGE.\"\n",
    "rake_top_k(text, 20)"
   ]
  },
  {
   "cell_type": "code",
   "execution_count": 15,
   "id": "69ad905b",
   "metadata": {},
   "outputs": [
    {
     "name": "stdout",
     "output_type": "stream",
     "text": [
      "[('supervised', 0.6676), ('labeled', 0.4896), ('learning', 0.4813), ('training', 0.4134), ('labels', 0.3947), ('supervisory', 0.3297), ('data', 0.3136), ('algorithm', 0.298), ('class', 0.296), ('object', 0.2789), ('determine', 0.2699), ('function', 0.2658), ('bias', 0.2644), ('task', 0.26), ('output', 0.2598), ('instances', 0.2595), ('machine', 0.2591), ('inductive', 0.2577), ('examples', 0.257), ('signal', 0.2563)]\n"
     ]
    }
   ],
   "source": [
    "from keybert import KeyBERT\n",
    "doc = \"\"\"\n",
    "         Supervised learning is the machine learning task of learning a function that\n",
    "         maps an input to an output based on example input-output pairs. It infers a\n",
    "         function from labeled training data consisting of a set of training examples.\n",
    "         In supervised learning, each example is a pair consisting of an input object\n",
    "         (typically a vector) and a desired output value (also called the supervisory signal). \n",
    "         A supervised learning algorithm analyzes the training data and produces an inferred function, \n",
    "         which can be used for mapping new examples. An optimal scenario will allow for the \n",
    "         algorithm to correctly determine the class labels for unseen instances. This requires \n",
    "         the learning algorithm to generalize from the training data to unseen situations in a \n",
    "         'reasonable' way (see inductive bias).\"\"\"\n",
    "kw_model = KeyBERT()\n",
    "keywords = kw_model.extract_keywords(doc, top_n = 20)\n",
    "print(keywords)"
   ]
  },
  {
   "cell_type": "code",
   "execution_count": 14,
   "id": "e8ac1ea4",
   "metadata": {},
   "outputs": [],
   "source": []
  },
  {
   "cell_type": "code",
   "execution_count": null,
   "id": "01ba6833",
   "metadata": {},
   "outputs": [],
   "source": []
  }
 ],
 "metadata": {
  "kernelspec": {
   "display_name": "Python 3.9 (speed)",
   "language": "python",
   "name": "speed"
  },
  "language_info": {
   "codemirror_mode": {
    "name": "ipython",
    "version": 3
   },
   "file_extension": ".py",
   "mimetype": "text/x-python",
   "name": "python",
   "nbconvert_exporter": "python",
   "pygments_lexer": "ipython3",
   "version": "3.9.18"
  }
 },
 "nbformat": 4,
 "nbformat_minor": 5
}
